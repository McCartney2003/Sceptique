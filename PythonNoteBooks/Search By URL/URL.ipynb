{
  "nbformat": 4,
  "nbformat_minor": 0,
  "metadata": {
    "colab": {
      "provenance": []
    },
    "kernelspec": {
      "name": "python3",
      "display_name": "Python 3"
    },
    "language_info": {
      "name": "python"
    },
    "widgets": {
      "application/vnd.jupyter.widget-state+json": {
        "dc3b082ddcb3413bace98ef4805e5b3e": {
          "model_module": "@jupyter-widgets/controls",
          "model_name": "HBoxModel",
          "model_module_version": "1.5.0",
          "state": {
            "_dom_classes": [],
            "_model_module": "@jupyter-widgets/controls",
            "_model_module_version": "1.5.0",
            "_model_name": "HBoxModel",
            "_view_count": null,
            "_view_module": "@jupyter-widgets/controls",
            "_view_module_version": "1.5.0",
            "_view_name": "HBoxView",
            "box_style": "",
            "children": [
              "IPY_MODEL_51f310e032bd490fb904e155284cc033",
              "IPY_MODEL_e6e8ae64231043deae2d30caca9f642b",
              "IPY_MODEL_99e10ac75ebe43e0ae0a75951d535b88"
            ],
            "layout": "IPY_MODEL_69babab1ead64f2f8e6512197cd1103f"
          }
        },
        "51f310e032bd490fb904e155284cc033": {
          "model_module": "@jupyter-widgets/controls",
          "model_name": "HTMLModel",
          "model_module_version": "1.5.0",
          "state": {
            "_dom_classes": [],
            "_model_module": "@jupyter-widgets/controls",
            "_model_module_version": "1.5.0",
            "_model_name": "HTMLModel",
            "_view_count": null,
            "_view_module": "@jupyter-widgets/controls",
            "_view_module_version": "1.5.0",
            "_view_name": "HTMLView",
            "description": "",
            "description_tooltip": null,
            "layout": "IPY_MODEL_cf6f12c9e9b242038256870a536d84ef",
            "placeholder": "​",
            "style": "IPY_MODEL_9d185729b0f94fc19770d70f13aea7ce",
            "value": "Downloading: 100%"
          }
        },
        "e6e8ae64231043deae2d30caca9f642b": {
          "model_module": "@jupyter-widgets/controls",
          "model_name": "FloatProgressModel",
          "model_module_version": "1.5.0",
          "state": {
            "_dom_classes": [],
            "_model_module": "@jupyter-widgets/controls",
            "_model_module_version": "1.5.0",
            "_model_name": "FloatProgressModel",
            "_view_count": null,
            "_view_module": "@jupyter-widgets/controls",
            "_view_module_version": "1.5.0",
            "_view_name": "ProgressView",
            "bar_style": "success",
            "description": "",
            "description_tooltip": null,
            "layout": "IPY_MODEL_2d1b8bfcc46c4a7d90ab9aa890086eb9",
            "max": 1208,
            "min": 0,
            "orientation": "horizontal",
            "style": "IPY_MODEL_40941f3b27264621a94a90992ef7bef7",
            "value": 1208
          }
        },
        "99e10ac75ebe43e0ae0a75951d535b88": {
          "model_module": "@jupyter-widgets/controls",
          "model_name": "HTMLModel",
          "model_module_version": "1.5.0",
          "state": {
            "_dom_classes": [],
            "_model_module": "@jupyter-widgets/controls",
            "_model_module_version": "1.5.0",
            "_model_name": "HTMLModel",
            "_view_count": null,
            "_view_module": "@jupyter-widgets/controls",
            "_view_module_version": "1.5.0",
            "_view_name": "HTMLView",
            "description": "",
            "description_tooltip": null,
            "layout": "IPY_MODEL_488a200e8c58460098d9dc69a543dbe4",
            "placeholder": "​",
            "style": "IPY_MODEL_18b5c54939f94495b7056b86276104ac",
            "value": " 1.21k/1.21k [00:00&lt;00:00, 43.7kB/s]"
          }
        },
        "69babab1ead64f2f8e6512197cd1103f": {
          "model_module": "@jupyter-widgets/base",
          "model_name": "LayoutModel",
          "model_module_version": "1.2.0",
          "state": {
            "_model_module": "@jupyter-widgets/base",
            "_model_module_version": "1.2.0",
            "_model_name": "LayoutModel",
            "_view_count": null,
            "_view_module": "@jupyter-widgets/base",
            "_view_module_version": "1.2.0",
            "_view_name": "LayoutView",
            "align_content": null,
            "align_items": null,
            "align_self": null,
            "border": null,
            "bottom": null,
            "display": null,
            "flex": null,
            "flex_flow": null,
            "grid_area": null,
            "grid_auto_columns": null,
            "grid_auto_flow": null,
            "grid_auto_rows": null,
            "grid_column": null,
            "grid_gap": null,
            "grid_row": null,
            "grid_template_areas": null,
            "grid_template_columns": null,
            "grid_template_rows": null,
            "height": null,
            "justify_content": null,
            "justify_items": null,
            "left": null,
            "margin": null,
            "max_height": null,
            "max_width": null,
            "min_height": null,
            "min_width": null,
            "object_fit": null,
            "object_position": null,
            "order": null,
            "overflow": null,
            "overflow_x": null,
            "overflow_y": null,
            "padding": null,
            "right": null,
            "top": null,
            "visibility": null,
            "width": null
          }
        },
        "cf6f12c9e9b242038256870a536d84ef": {
          "model_module": "@jupyter-widgets/base",
          "model_name": "LayoutModel",
          "model_module_version": "1.2.0",
          "state": {
            "_model_module": "@jupyter-widgets/base",
            "_model_module_version": "1.2.0",
            "_model_name": "LayoutModel",
            "_view_count": null,
            "_view_module": "@jupyter-widgets/base",
            "_view_module_version": "1.2.0",
            "_view_name": "LayoutView",
            "align_content": null,
            "align_items": null,
            "align_self": null,
            "border": null,
            "bottom": null,
            "display": null,
            "flex": null,
            "flex_flow": null,
            "grid_area": null,
            "grid_auto_columns": null,
            "grid_auto_flow": null,
            "grid_auto_rows": null,
            "grid_column": null,
            "grid_gap": null,
            "grid_row": null,
            "grid_template_areas": null,
            "grid_template_columns": null,
            "grid_template_rows": null,
            "height": null,
            "justify_content": null,
            "justify_items": null,
            "left": null,
            "margin": null,
            "max_height": null,
            "max_width": null,
            "min_height": null,
            "min_width": null,
            "object_fit": null,
            "object_position": null,
            "order": null,
            "overflow": null,
            "overflow_x": null,
            "overflow_y": null,
            "padding": null,
            "right": null,
            "top": null,
            "visibility": null,
            "width": null
          }
        },
        "9d185729b0f94fc19770d70f13aea7ce": {
          "model_module": "@jupyter-widgets/controls",
          "model_name": "DescriptionStyleModel",
          "model_module_version": "1.5.0",
          "state": {
            "_model_module": "@jupyter-widgets/controls",
            "_model_module_version": "1.5.0",
            "_model_name": "DescriptionStyleModel",
            "_view_count": null,
            "_view_module": "@jupyter-widgets/base",
            "_view_module_version": "1.2.0",
            "_view_name": "StyleView",
            "description_width": ""
          }
        },
        "2d1b8bfcc46c4a7d90ab9aa890086eb9": {
          "model_module": "@jupyter-widgets/base",
          "model_name": "LayoutModel",
          "model_module_version": "1.2.0",
          "state": {
            "_model_module": "@jupyter-widgets/base",
            "_model_module_version": "1.2.0",
            "_model_name": "LayoutModel",
            "_view_count": null,
            "_view_module": "@jupyter-widgets/base",
            "_view_module_version": "1.2.0",
            "_view_name": "LayoutView",
            "align_content": null,
            "align_items": null,
            "align_self": null,
            "border": null,
            "bottom": null,
            "display": null,
            "flex": null,
            "flex_flow": null,
            "grid_area": null,
            "grid_auto_columns": null,
            "grid_auto_flow": null,
            "grid_auto_rows": null,
            "grid_column": null,
            "grid_gap": null,
            "grid_row": null,
            "grid_template_areas": null,
            "grid_template_columns": null,
            "grid_template_rows": null,
            "height": null,
            "justify_content": null,
            "justify_items": null,
            "left": null,
            "margin": null,
            "max_height": null,
            "max_width": null,
            "min_height": null,
            "min_width": null,
            "object_fit": null,
            "object_position": null,
            "order": null,
            "overflow": null,
            "overflow_x": null,
            "overflow_y": null,
            "padding": null,
            "right": null,
            "top": null,
            "visibility": null,
            "width": null
          }
        },
        "40941f3b27264621a94a90992ef7bef7": {
          "model_module": "@jupyter-widgets/controls",
          "model_name": "ProgressStyleModel",
          "model_module_version": "1.5.0",
          "state": {
            "_model_module": "@jupyter-widgets/controls",
            "_model_module_version": "1.5.0",
            "_model_name": "ProgressStyleModel",
            "_view_count": null,
            "_view_module": "@jupyter-widgets/base",
            "_view_module_version": "1.2.0",
            "_view_name": "StyleView",
            "bar_color": null,
            "description_width": ""
          }
        },
        "488a200e8c58460098d9dc69a543dbe4": {
          "model_module": "@jupyter-widgets/base",
          "model_name": "LayoutModel",
          "model_module_version": "1.2.0",
          "state": {
            "_model_module": "@jupyter-widgets/base",
            "_model_module_version": "1.2.0",
            "_model_name": "LayoutModel",
            "_view_count": null,
            "_view_module": "@jupyter-widgets/base",
            "_view_module_version": "1.2.0",
            "_view_name": "LayoutView",
            "align_content": null,
            "align_items": null,
            "align_self": null,
            "border": null,
            "bottom": null,
            "display": null,
            "flex": null,
            "flex_flow": null,
            "grid_area": null,
            "grid_auto_columns": null,
            "grid_auto_flow": null,
            "grid_auto_rows": null,
            "grid_column": null,
            "grid_gap": null,
            "grid_row": null,
            "grid_template_areas": null,
            "grid_template_columns": null,
            "grid_template_rows": null,
            "height": null,
            "justify_content": null,
            "justify_items": null,
            "left": null,
            "margin": null,
            "max_height": null,
            "max_width": null,
            "min_height": null,
            "min_width": null,
            "object_fit": null,
            "object_position": null,
            "order": null,
            "overflow": null,
            "overflow_x": null,
            "overflow_y": null,
            "padding": null,
            "right": null,
            "top": null,
            "visibility": null,
            "width": null
          }
        },
        "18b5c54939f94495b7056b86276104ac": {
          "model_module": "@jupyter-widgets/controls",
          "model_name": "DescriptionStyleModel",
          "model_module_version": "1.5.0",
          "state": {
            "_model_module": "@jupyter-widgets/controls",
            "_model_module_version": "1.5.0",
            "_model_name": "DescriptionStyleModel",
            "_view_count": null,
            "_view_module": "@jupyter-widgets/base",
            "_view_module_version": "1.2.0",
            "_view_name": "StyleView",
            "description_width": ""
          }
        },
        "9a62e347a4d6477ca25b2b9833c30fbc": {
          "model_module": "@jupyter-widgets/controls",
          "model_name": "HBoxModel",
          "model_module_version": "1.5.0",
          "state": {
            "_dom_classes": [],
            "_model_module": "@jupyter-widgets/controls",
            "_model_module_version": "1.5.0",
            "_model_name": "HBoxModel",
            "_view_count": null,
            "_view_module": "@jupyter-widgets/controls",
            "_view_module_version": "1.5.0",
            "_view_name": "HBoxView",
            "box_style": "",
            "children": [
              "IPY_MODEL_8b387a78b816417986ec4ba7483ad233",
              "IPY_MODEL_073d7eebeef2436984e3e582b3baee70",
              "IPY_MODEL_3a0efc1e43b14eab80ffee25deabfa1a"
            ],
            "layout": "IPY_MODEL_842b058fe17a46a0a527d3ea1e6eb26b"
          }
        },
        "8b387a78b816417986ec4ba7483ad233": {
          "model_module": "@jupyter-widgets/controls",
          "model_name": "HTMLModel",
          "model_module_version": "1.5.0",
          "state": {
            "_dom_classes": [],
            "_model_module": "@jupyter-widgets/controls",
            "_model_module_version": "1.5.0",
            "_model_name": "HTMLModel",
            "_view_count": null,
            "_view_module": "@jupyter-widgets/controls",
            "_view_module_version": "1.5.0",
            "_view_name": "HTMLView",
            "description": "",
            "description_tooltip": null,
            "layout": "IPY_MODEL_777d7e17e26746ba9c407c02a0f2a024",
            "placeholder": "​",
            "style": "IPY_MODEL_fe99a687bbbf4543a3bfedb8764f25bf",
            "value": "Downloading: 100%"
          }
        },
        "073d7eebeef2436984e3e582b3baee70": {
          "model_module": "@jupyter-widgets/controls",
          "model_name": "FloatProgressModel",
          "model_module_version": "1.5.0",
          "state": {
            "_dom_classes": [],
            "_model_module": "@jupyter-widgets/controls",
            "_model_module_version": "1.5.0",
            "_model_name": "FloatProgressModel",
            "_view_count": null,
            "_view_module": "@jupyter-widgets/controls",
            "_view_module_version": "1.5.0",
            "_view_name": "ProgressView",
            "bar_style": "success",
            "description": "",
            "description_tooltip": null,
            "layout": "IPY_MODEL_42554a7f1ad14754a65e1933f1f8b6b7",
            "max": 791656,
            "min": 0,
            "orientation": "horizontal",
            "style": "IPY_MODEL_04003e2350ba40e797c4ef8d40a3bc63",
            "value": 791656
          }
        },
        "3a0efc1e43b14eab80ffee25deabfa1a": {
          "model_module": "@jupyter-widgets/controls",
          "model_name": "HTMLModel",
          "model_module_version": "1.5.0",
          "state": {
            "_dom_classes": [],
            "_model_module": "@jupyter-widgets/controls",
            "_model_module_version": "1.5.0",
            "_model_name": "HTMLModel",
            "_view_count": null,
            "_view_module": "@jupyter-widgets/controls",
            "_view_module_version": "1.5.0",
            "_view_name": "HTMLView",
            "description": "",
            "description_tooltip": null,
            "layout": "IPY_MODEL_378d5d2ff4184befb2a86edd8e2542bc",
            "placeholder": "​",
            "style": "IPY_MODEL_3296b3e6af8448d791dde29d616039b7",
            "value": " 792k/792k [00:00&lt;00:00, 2.37MB/s]"
          }
        },
        "842b058fe17a46a0a527d3ea1e6eb26b": {
          "model_module": "@jupyter-widgets/base",
          "model_name": "LayoutModel",
          "model_module_version": "1.2.0",
          "state": {
            "_model_module": "@jupyter-widgets/base",
            "_model_module_version": "1.2.0",
            "_model_name": "LayoutModel",
            "_view_count": null,
            "_view_module": "@jupyter-widgets/base",
            "_view_module_version": "1.2.0",
            "_view_name": "LayoutView",
            "align_content": null,
            "align_items": null,
            "align_self": null,
            "border": null,
            "bottom": null,
            "display": null,
            "flex": null,
            "flex_flow": null,
            "grid_area": null,
            "grid_auto_columns": null,
            "grid_auto_flow": null,
            "grid_auto_rows": null,
            "grid_column": null,
            "grid_gap": null,
            "grid_row": null,
            "grid_template_areas": null,
            "grid_template_columns": null,
            "grid_template_rows": null,
            "height": null,
            "justify_content": null,
            "justify_items": null,
            "left": null,
            "margin": null,
            "max_height": null,
            "max_width": null,
            "min_height": null,
            "min_width": null,
            "object_fit": null,
            "object_position": null,
            "order": null,
            "overflow": null,
            "overflow_x": null,
            "overflow_y": null,
            "padding": null,
            "right": null,
            "top": null,
            "visibility": null,
            "width": null
          }
        },
        "777d7e17e26746ba9c407c02a0f2a024": {
          "model_module": "@jupyter-widgets/base",
          "model_name": "LayoutModel",
          "model_module_version": "1.2.0",
          "state": {
            "_model_module": "@jupyter-widgets/base",
            "_model_module_version": "1.2.0",
            "_model_name": "LayoutModel",
            "_view_count": null,
            "_view_module": "@jupyter-widgets/base",
            "_view_module_version": "1.2.0",
            "_view_name": "LayoutView",
            "align_content": null,
            "align_items": null,
            "align_self": null,
            "border": null,
            "bottom": null,
            "display": null,
            "flex": null,
            "flex_flow": null,
            "grid_area": null,
            "grid_auto_columns": null,
            "grid_auto_flow": null,
            "grid_auto_rows": null,
            "grid_column": null,
            "grid_gap": null,
            "grid_row": null,
            "grid_template_areas": null,
            "grid_template_columns": null,
            "grid_template_rows": null,
            "height": null,
            "justify_content": null,
            "justify_items": null,
            "left": null,
            "margin": null,
            "max_height": null,
            "max_width": null,
            "min_height": null,
            "min_width": null,
            "object_fit": null,
            "object_position": null,
            "order": null,
            "overflow": null,
            "overflow_x": null,
            "overflow_y": null,
            "padding": null,
            "right": null,
            "top": null,
            "visibility": null,
            "width": null
          }
        },
        "fe99a687bbbf4543a3bfedb8764f25bf": {
          "model_module": "@jupyter-widgets/controls",
          "model_name": "DescriptionStyleModel",
          "model_module_version": "1.5.0",
          "state": {
            "_model_module": "@jupyter-widgets/controls",
            "_model_module_version": "1.5.0",
            "_model_name": "DescriptionStyleModel",
            "_view_count": null,
            "_view_module": "@jupyter-widgets/base",
            "_view_module_version": "1.2.0",
            "_view_name": "StyleView",
            "description_width": ""
          }
        },
        "42554a7f1ad14754a65e1933f1f8b6b7": {
          "model_module": "@jupyter-widgets/base",
          "model_name": "LayoutModel",
          "model_module_version": "1.2.0",
          "state": {
            "_model_module": "@jupyter-widgets/base",
            "_model_module_version": "1.2.0",
            "_model_name": "LayoutModel",
            "_view_count": null,
            "_view_module": "@jupyter-widgets/base",
            "_view_module_version": "1.2.0",
            "_view_name": "LayoutView",
            "align_content": null,
            "align_items": null,
            "align_self": null,
            "border": null,
            "bottom": null,
            "display": null,
            "flex": null,
            "flex_flow": null,
            "grid_area": null,
            "grid_auto_columns": null,
            "grid_auto_flow": null,
            "grid_auto_rows": null,
            "grid_column": null,
            "grid_gap": null,
            "grid_row": null,
            "grid_template_areas": null,
            "grid_template_columns": null,
            "grid_template_rows": null,
            "height": null,
            "justify_content": null,
            "justify_items": null,
            "left": null,
            "margin": null,
            "max_height": null,
            "max_width": null,
            "min_height": null,
            "min_width": null,
            "object_fit": null,
            "object_position": null,
            "order": null,
            "overflow": null,
            "overflow_x": null,
            "overflow_y": null,
            "padding": null,
            "right": null,
            "top": null,
            "visibility": null,
            "width": null
          }
        },
        "04003e2350ba40e797c4ef8d40a3bc63": {
          "model_module": "@jupyter-widgets/controls",
          "model_name": "ProgressStyleModel",
          "model_module_version": "1.5.0",
          "state": {
            "_model_module": "@jupyter-widgets/controls",
            "_model_module_version": "1.5.0",
            "_model_name": "ProgressStyleModel",
            "_view_count": null,
            "_view_module": "@jupyter-widgets/base",
            "_view_module_version": "1.2.0",
            "_view_name": "StyleView",
            "bar_color": null,
            "description_width": ""
          }
        },
        "378d5d2ff4184befb2a86edd8e2542bc": {
          "model_module": "@jupyter-widgets/base",
          "model_name": "LayoutModel",
          "model_module_version": "1.2.0",
          "state": {
            "_model_module": "@jupyter-widgets/base",
            "_model_module_version": "1.2.0",
            "_model_name": "LayoutModel",
            "_view_count": null,
            "_view_module": "@jupyter-widgets/base",
            "_view_module_version": "1.2.0",
            "_view_name": "LayoutView",
            "align_content": null,
            "align_items": null,
            "align_self": null,
            "border": null,
            "bottom": null,
            "display": null,
            "flex": null,
            "flex_flow": null,
            "grid_area": null,
            "grid_auto_columns": null,
            "grid_auto_flow": null,
            "grid_auto_rows": null,
            "grid_column": null,
            "grid_gap": null,
            "grid_row": null,
            "grid_template_areas": null,
            "grid_template_columns": null,
            "grid_template_rows": null,
            "height": null,
            "justify_content": null,
            "justify_items": null,
            "left": null,
            "margin": null,
            "max_height": null,
            "max_width": null,
            "min_height": null,
            "min_width": null,
            "object_fit": null,
            "object_position": null,
            "order": null,
            "overflow": null,
            "overflow_x": null,
            "overflow_y": null,
            "padding": null,
            "right": null,
            "top": null,
            "visibility": null,
            "width": null
          }
        },
        "3296b3e6af8448d791dde29d616039b7": {
          "model_module": "@jupyter-widgets/controls",
          "model_name": "DescriptionStyleModel",
          "model_module_version": "1.5.0",
          "state": {
            "_model_module": "@jupyter-widgets/controls",
            "_model_module_version": "1.5.0",
            "_model_name": "DescriptionStyleModel",
            "_view_count": null,
            "_view_module": "@jupyter-widgets/base",
            "_view_module_version": "1.2.0",
            "_view_name": "StyleView",
            "description_width": ""
          }
        },
        "beb38a5e2a53451db6c928b041f28828": {
          "model_module": "@jupyter-widgets/controls",
          "model_name": "HBoxModel",
          "model_module_version": "1.5.0",
          "state": {
            "_dom_classes": [],
            "_model_module": "@jupyter-widgets/controls",
            "_model_module_version": "1.5.0",
            "_model_name": "HBoxModel",
            "_view_count": null,
            "_view_module": "@jupyter-widgets/controls",
            "_view_module_version": "1.5.0",
            "_view_name": "HBoxView",
            "box_style": "",
            "children": [
              "IPY_MODEL_57cac63f0e1c4d47b70b4ae9ec7dcbf7",
              "IPY_MODEL_20b227ddd03145cfa72a895d70f3018a",
              "IPY_MODEL_5f38c04bb3874e53b115792355b083ec"
            ],
            "layout": "IPY_MODEL_e33c0cdf456447a9b1f6d47a41fbbd7c"
          }
        },
        "57cac63f0e1c4d47b70b4ae9ec7dcbf7": {
          "model_module": "@jupyter-widgets/controls",
          "model_name": "HTMLModel",
          "model_module_version": "1.5.0",
          "state": {
            "_dom_classes": [],
            "_model_module": "@jupyter-widgets/controls",
            "_model_module_version": "1.5.0",
            "_model_name": "HTMLModel",
            "_view_count": null,
            "_view_module": "@jupyter-widgets/controls",
            "_view_module_version": "1.5.0",
            "_view_name": "HTMLView",
            "description": "",
            "description_tooltip": null,
            "layout": "IPY_MODEL_304bd0a4d1dd43a8908bec4fdb352916",
            "placeholder": "​",
            "style": "IPY_MODEL_40ec40675fab454397433dcacd5787c9",
            "value": "Downloading: 100%"
          }
        },
        "20b227ddd03145cfa72a895d70f3018a": {
          "model_module": "@jupyter-widgets/controls",
          "model_name": "FloatProgressModel",
          "model_module_version": "1.5.0",
          "state": {
            "_dom_classes": [],
            "_model_module": "@jupyter-widgets/controls",
            "_model_module_version": "1.5.0",
            "_model_name": "FloatProgressModel",
            "_view_count": null,
            "_view_module": "@jupyter-widgets/controls",
            "_view_module_version": "1.5.0",
            "_view_name": "ProgressView",
            "bar_style": "success",
            "description": "",
            "description_tooltip": null,
            "layout": "IPY_MODEL_f121fcf5253945cf91260e6d47b74e77",
            "max": 1389353,
            "min": 0,
            "orientation": "horizontal",
            "style": "IPY_MODEL_2669c3a9c8fe4ead987ea9f378aa6a06",
            "value": 1389353
          }
        },
        "5f38c04bb3874e53b115792355b083ec": {
          "model_module": "@jupyter-widgets/controls",
          "model_name": "HTMLModel",
          "model_module_version": "1.5.0",
          "state": {
            "_dom_classes": [],
            "_model_module": "@jupyter-widgets/controls",
            "_model_module_version": "1.5.0",
            "_model_name": "HTMLModel",
            "_view_count": null,
            "_view_module": "@jupyter-widgets/controls",
            "_view_module_version": "1.5.0",
            "_view_name": "HTMLView",
            "description": "",
            "description_tooltip": null,
            "layout": "IPY_MODEL_8d29536c71484baf8e7f64eb72f989ec",
            "placeholder": "​",
            "style": "IPY_MODEL_c42c88a61b4f4eeba4df98b47ba74335",
            "value": " 1.39M/1.39M [00:00&lt;00:00, 3.08MB/s]"
          }
        },
        "e33c0cdf456447a9b1f6d47a41fbbd7c": {
          "model_module": "@jupyter-widgets/base",
          "model_name": "LayoutModel",
          "model_module_version": "1.2.0",
          "state": {
            "_model_module": "@jupyter-widgets/base",
            "_model_module_version": "1.2.0",
            "_model_name": "LayoutModel",
            "_view_count": null,
            "_view_module": "@jupyter-widgets/base",
            "_view_module_version": "1.2.0",
            "_view_name": "LayoutView",
            "align_content": null,
            "align_items": null,
            "align_self": null,
            "border": null,
            "bottom": null,
            "display": null,
            "flex": null,
            "flex_flow": null,
            "grid_area": null,
            "grid_auto_columns": null,
            "grid_auto_flow": null,
            "grid_auto_rows": null,
            "grid_column": null,
            "grid_gap": null,
            "grid_row": null,
            "grid_template_areas": null,
            "grid_template_columns": null,
            "grid_template_rows": null,
            "height": null,
            "justify_content": null,
            "justify_items": null,
            "left": null,
            "margin": null,
            "max_height": null,
            "max_width": null,
            "min_height": null,
            "min_width": null,
            "object_fit": null,
            "object_position": null,
            "order": null,
            "overflow": null,
            "overflow_x": null,
            "overflow_y": null,
            "padding": null,
            "right": null,
            "top": null,
            "visibility": null,
            "width": null
          }
        },
        "304bd0a4d1dd43a8908bec4fdb352916": {
          "model_module": "@jupyter-widgets/base",
          "model_name": "LayoutModel",
          "model_module_version": "1.2.0",
          "state": {
            "_model_module": "@jupyter-widgets/base",
            "_model_module_version": "1.2.0",
            "_model_name": "LayoutModel",
            "_view_count": null,
            "_view_module": "@jupyter-widgets/base",
            "_view_module_version": "1.2.0",
            "_view_name": "LayoutView",
            "align_content": null,
            "align_items": null,
            "align_self": null,
            "border": null,
            "bottom": null,
            "display": null,
            "flex": null,
            "flex_flow": null,
            "grid_area": null,
            "grid_auto_columns": null,
            "grid_auto_flow": null,
            "grid_auto_rows": null,
            "grid_column": null,
            "grid_gap": null,
            "grid_row": null,
            "grid_template_areas": null,
            "grid_template_columns": null,
            "grid_template_rows": null,
            "height": null,
            "justify_content": null,
            "justify_items": null,
            "left": null,
            "margin": null,
            "max_height": null,
            "max_width": null,
            "min_height": null,
            "min_width": null,
            "object_fit": null,
            "object_position": null,
            "order": null,
            "overflow": null,
            "overflow_x": null,
            "overflow_y": null,
            "padding": null,
            "right": null,
            "top": null,
            "visibility": null,
            "width": null
          }
        },
        "40ec40675fab454397433dcacd5787c9": {
          "model_module": "@jupyter-widgets/controls",
          "model_name": "DescriptionStyleModel",
          "model_module_version": "1.5.0",
          "state": {
            "_model_module": "@jupyter-widgets/controls",
            "_model_module_version": "1.5.0",
            "_model_name": "DescriptionStyleModel",
            "_view_count": null,
            "_view_module": "@jupyter-widgets/base",
            "_view_module_version": "1.2.0",
            "_view_name": "StyleView",
            "description_width": ""
          }
        },
        "f121fcf5253945cf91260e6d47b74e77": {
          "model_module": "@jupyter-widgets/base",
          "model_name": "LayoutModel",
          "model_module_version": "1.2.0",
          "state": {
            "_model_module": "@jupyter-widgets/base",
            "_model_module_version": "1.2.0",
            "_model_name": "LayoutModel",
            "_view_count": null,
            "_view_module": "@jupyter-widgets/base",
            "_view_module_version": "1.2.0",
            "_view_name": "LayoutView",
            "align_content": null,
            "align_items": null,
            "align_self": null,
            "border": null,
            "bottom": null,
            "display": null,
            "flex": null,
            "flex_flow": null,
            "grid_area": null,
            "grid_auto_columns": null,
            "grid_auto_flow": null,
            "grid_auto_rows": null,
            "grid_column": null,
            "grid_gap": null,
            "grid_row": null,
            "grid_template_areas": null,
            "grid_template_columns": null,
            "grid_template_rows": null,
            "height": null,
            "justify_content": null,
            "justify_items": null,
            "left": null,
            "margin": null,
            "max_height": null,
            "max_width": null,
            "min_height": null,
            "min_width": null,
            "object_fit": null,
            "object_position": null,
            "order": null,
            "overflow": null,
            "overflow_x": null,
            "overflow_y": null,
            "padding": null,
            "right": null,
            "top": null,
            "visibility": null,
            "width": null
          }
        },
        "2669c3a9c8fe4ead987ea9f378aa6a06": {
          "model_module": "@jupyter-widgets/controls",
          "model_name": "ProgressStyleModel",
          "model_module_version": "1.5.0",
          "state": {
            "_model_module": "@jupyter-widgets/controls",
            "_model_module_version": "1.5.0",
            "_model_name": "ProgressStyleModel",
            "_view_count": null,
            "_view_module": "@jupyter-widgets/base",
            "_view_module_version": "1.2.0",
            "_view_name": "StyleView",
            "bar_color": null,
            "description_width": ""
          }
        },
        "8d29536c71484baf8e7f64eb72f989ec": {
          "model_module": "@jupyter-widgets/base",
          "model_name": "LayoutModel",
          "model_module_version": "1.2.0",
          "state": {
            "_model_module": "@jupyter-widgets/base",
            "_model_module_version": "1.2.0",
            "_model_name": "LayoutModel",
            "_view_count": null,
            "_view_module": "@jupyter-widgets/base",
            "_view_module_version": "1.2.0",
            "_view_name": "LayoutView",
            "align_content": null,
            "align_items": null,
            "align_self": null,
            "border": null,
            "bottom": null,
            "display": null,
            "flex": null,
            "flex_flow": null,
            "grid_area": null,
            "grid_auto_columns": null,
            "grid_auto_flow": null,
            "grid_auto_rows": null,
            "grid_column": null,
            "grid_gap": null,
            "grid_row": null,
            "grid_template_areas": null,
            "grid_template_columns": null,
            "grid_template_rows": null,
            "height": null,
            "justify_content": null,
            "justify_items": null,
            "left": null,
            "margin": null,
            "max_height": null,
            "max_width": null,
            "min_height": null,
            "min_width": null,
            "object_fit": null,
            "object_position": null,
            "order": null,
            "overflow": null,
            "overflow_x": null,
            "overflow_y": null,
            "padding": null,
            "right": null,
            "top": null,
            "visibility": null,
            "width": null
          }
        },
        "c42c88a61b4f4eeba4df98b47ba74335": {
          "model_module": "@jupyter-widgets/controls",
          "model_name": "DescriptionStyleModel",
          "model_module_version": "1.5.0",
          "state": {
            "_model_module": "@jupyter-widgets/controls",
            "_model_module_version": "1.5.0",
            "_model_name": "DescriptionStyleModel",
            "_view_count": null,
            "_view_module": "@jupyter-widgets/base",
            "_view_module_version": "1.2.0",
            "_view_name": "StyleView",
            "description_width": ""
          }
        },
        "68fd1830960046f6a19c8bfd542c0c21": {
          "model_module": "@jupyter-widgets/controls",
          "model_name": "HBoxModel",
          "model_module_version": "1.5.0",
          "state": {
            "_dom_classes": [],
            "_model_module": "@jupyter-widgets/controls",
            "_model_module_version": "1.5.0",
            "_model_name": "HBoxModel",
            "_view_count": null,
            "_view_module": "@jupyter-widgets/controls",
            "_view_module_version": "1.5.0",
            "_view_name": "HBoxView",
            "box_style": "",
            "children": [
              "IPY_MODEL_5be6b9e393b74300a06184044bb8e78f",
              "IPY_MODEL_e8dc9f4bec924cbfb8948e9b95388b53",
              "IPY_MODEL_aecab12f1ce64003a8642090ab441ccc"
            ],
            "layout": "IPY_MODEL_c502b77c9d3a441b87f25aab9579906d"
          }
        },
        "5be6b9e393b74300a06184044bb8e78f": {
          "model_module": "@jupyter-widgets/controls",
          "model_name": "HTMLModel",
          "model_module_version": "1.5.0",
          "state": {
            "_dom_classes": [],
            "_model_module": "@jupyter-widgets/controls",
            "_model_module_version": "1.5.0",
            "_model_name": "HTMLModel",
            "_view_count": null,
            "_view_module": "@jupyter-widgets/controls",
            "_view_module_version": "1.5.0",
            "_view_name": "HTMLView",
            "description": "",
            "description_tooltip": null,
            "layout": "IPY_MODEL_318f5837835742acbce44bbdf9486d34",
            "placeholder": "​",
            "style": "IPY_MODEL_63626d283cc740c586d5fb78766af7f8",
            "value": "Downloading: 100%"
          }
        },
        "e8dc9f4bec924cbfb8948e9b95388b53": {
          "model_module": "@jupyter-widgets/controls",
          "model_name": "FloatProgressModel",
          "model_module_version": "1.5.0",
          "state": {
            "_dom_classes": [],
            "_model_module": "@jupyter-widgets/controls",
            "_model_module_version": "1.5.0",
            "_model_name": "FloatProgressModel",
            "_view_count": null,
            "_view_module": "@jupyter-widgets/controls",
            "_view_module_version": "1.5.0",
            "_view_name": "ProgressView",
            "bar_style": "success",
            "description": "",
            "description_tooltip": null,
            "layout": "IPY_MODEL_866a9317f523499c86ff52262a2caea3",
            "max": 891691430,
            "min": 0,
            "orientation": "horizontal",
            "style": "IPY_MODEL_8dcc5f10593542d59c34fa43a3947765",
            "value": 891691430
          }
        },
        "aecab12f1ce64003a8642090ab441ccc": {
          "model_module": "@jupyter-widgets/controls",
          "model_name": "HTMLModel",
          "model_module_version": "1.5.0",
          "state": {
            "_dom_classes": [],
            "_model_module": "@jupyter-widgets/controls",
            "_model_module_version": "1.5.0",
            "_model_name": "HTMLModel",
            "_view_count": null,
            "_view_module": "@jupyter-widgets/controls",
            "_view_module_version": "1.5.0",
            "_view_name": "HTMLView",
            "description": "",
            "description_tooltip": null,
            "layout": "IPY_MODEL_6b802e5ca26b4d858138c7cf0c00d6d5",
            "placeholder": "​",
            "style": "IPY_MODEL_6deafb1f43984aa283b10e1b7b819194",
            "value": " 892M/892M [00:25&lt;00:00, 32.2MB/s]"
          }
        },
        "c502b77c9d3a441b87f25aab9579906d": {
          "model_module": "@jupyter-widgets/base",
          "model_name": "LayoutModel",
          "model_module_version": "1.2.0",
          "state": {
            "_model_module": "@jupyter-widgets/base",
            "_model_module_version": "1.2.0",
            "_model_name": "LayoutModel",
            "_view_count": null,
            "_view_module": "@jupyter-widgets/base",
            "_view_module_version": "1.2.0",
            "_view_name": "LayoutView",
            "align_content": null,
            "align_items": null,
            "align_self": null,
            "border": null,
            "bottom": null,
            "display": null,
            "flex": null,
            "flex_flow": null,
            "grid_area": null,
            "grid_auto_columns": null,
            "grid_auto_flow": null,
            "grid_auto_rows": null,
            "grid_column": null,
            "grid_gap": null,
            "grid_row": null,
            "grid_template_areas": null,
            "grid_template_columns": null,
            "grid_template_rows": null,
            "height": null,
            "justify_content": null,
            "justify_items": null,
            "left": null,
            "margin": null,
            "max_height": null,
            "max_width": null,
            "min_height": null,
            "min_width": null,
            "object_fit": null,
            "object_position": null,
            "order": null,
            "overflow": null,
            "overflow_x": null,
            "overflow_y": null,
            "padding": null,
            "right": null,
            "top": null,
            "visibility": null,
            "width": null
          }
        },
        "318f5837835742acbce44bbdf9486d34": {
          "model_module": "@jupyter-widgets/base",
          "model_name": "LayoutModel",
          "model_module_version": "1.2.0",
          "state": {
            "_model_module": "@jupyter-widgets/base",
            "_model_module_version": "1.2.0",
            "_model_name": "LayoutModel",
            "_view_count": null,
            "_view_module": "@jupyter-widgets/base",
            "_view_module_version": "1.2.0",
            "_view_name": "LayoutView",
            "align_content": null,
            "align_items": null,
            "align_self": null,
            "border": null,
            "bottom": null,
            "display": null,
            "flex": null,
            "flex_flow": null,
            "grid_area": null,
            "grid_auto_columns": null,
            "grid_auto_flow": null,
            "grid_auto_rows": null,
            "grid_column": null,
            "grid_gap": null,
            "grid_row": null,
            "grid_template_areas": null,
            "grid_template_columns": null,
            "grid_template_rows": null,
            "height": null,
            "justify_content": null,
            "justify_items": null,
            "left": null,
            "margin": null,
            "max_height": null,
            "max_width": null,
            "min_height": null,
            "min_width": null,
            "object_fit": null,
            "object_position": null,
            "order": null,
            "overflow": null,
            "overflow_x": null,
            "overflow_y": null,
            "padding": null,
            "right": null,
            "top": null,
            "visibility": null,
            "width": null
          }
        },
        "63626d283cc740c586d5fb78766af7f8": {
          "model_module": "@jupyter-widgets/controls",
          "model_name": "DescriptionStyleModel",
          "model_module_version": "1.5.0",
          "state": {
            "_model_module": "@jupyter-widgets/controls",
            "_model_module_version": "1.5.0",
            "_model_name": "DescriptionStyleModel",
            "_view_count": null,
            "_view_module": "@jupyter-widgets/base",
            "_view_module_version": "1.2.0",
            "_view_name": "StyleView",
            "description_width": ""
          }
        },
        "866a9317f523499c86ff52262a2caea3": {
          "model_module": "@jupyter-widgets/base",
          "model_name": "LayoutModel",
          "model_module_version": "1.2.0",
          "state": {
            "_model_module": "@jupyter-widgets/base",
            "_model_module_version": "1.2.0",
            "_model_name": "LayoutModel",
            "_view_count": null,
            "_view_module": "@jupyter-widgets/base",
            "_view_module_version": "1.2.0",
            "_view_name": "LayoutView",
            "align_content": null,
            "align_items": null,
            "align_self": null,
            "border": null,
            "bottom": null,
            "display": null,
            "flex": null,
            "flex_flow": null,
            "grid_area": null,
            "grid_auto_columns": null,
            "grid_auto_flow": null,
            "grid_auto_rows": null,
            "grid_column": null,
            "grid_gap": null,
            "grid_row": null,
            "grid_template_areas": null,
            "grid_template_columns": null,
            "grid_template_rows": null,
            "height": null,
            "justify_content": null,
            "justify_items": null,
            "left": null,
            "margin": null,
            "max_height": null,
            "max_width": null,
            "min_height": null,
            "min_width": null,
            "object_fit": null,
            "object_position": null,
            "order": null,
            "overflow": null,
            "overflow_x": null,
            "overflow_y": null,
            "padding": null,
            "right": null,
            "top": null,
            "visibility": null,
            "width": null
          }
        },
        "8dcc5f10593542d59c34fa43a3947765": {
          "model_module": "@jupyter-widgets/controls",
          "model_name": "ProgressStyleModel",
          "model_module_version": "1.5.0",
          "state": {
            "_model_module": "@jupyter-widgets/controls",
            "_model_module_version": "1.5.0",
            "_model_name": "ProgressStyleModel",
            "_view_count": null,
            "_view_module": "@jupyter-widgets/base",
            "_view_module_version": "1.2.0",
            "_view_name": "StyleView",
            "bar_color": null,
            "description_width": ""
          }
        },
        "6b802e5ca26b4d858138c7cf0c00d6d5": {
          "model_module": "@jupyter-widgets/base",
          "model_name": "LayoutModel",
          "model_module_version": "1.2.0",
          "state": {
            "_model_module": "@jupyter-widgets/base",
            "_model_module_version": "1.2.0",
            "_model_name": "LayoutModel",
            "_view_count": null,
            "_view_module": "@jupyter-widgets/base",
            "_view_module_version": "1.2.0",
            "_view_name": "LayoutView",
            "align_content": null,
            "align_items": null,
            "align_self": null,
            "border": null,
            "bottom": null,
            "display": null,
            "flex": null,
            "flex_flow": null,
            "grid_area": null,
            "grid_auto_columns": null,
            "grid_auto_flow": null,
            "grid_auto_rows": null,
            "grid_column": null,
            "grid_gap": null,
            "grid_row": null,
            "grid_template_areas": null,
            "grid_template_columns": null,
            "grid_template_rows": null,
            "height": null,
            "justify_content": null,
            "justify_items": null,
            "left": null,
            "margin": null,
            "max_height": null,
            "max_width": null,
            "min_height": null,
            "min_width": null,
            "object_fit": null,
            "object_position": null,
            "order": null,
            "overflow": null,
            "overflow_x": null,
            "overflow_y": null,
            "padding": null,
            "right": null,
            "top": null,
            "visibility": null,
            "width": null
          }
        },
        "6deafb1f43984aa283b10e1b7b819194": {
          "model_module": "@jupyter-widgets/controls",
          "model_name": "DescriptionStyleModel",
          "model_module_version": "1.5.0",
          "state": {
            "_model_module": "@jupyter-widgets/controls",
            "_model_module_version": "1.5.0",
            "_model_name": "DescriptionStyleModel",
            "_view_count": null,
            "_view_module": "@jupyter-widgets/base",
            "_view_module_version": "1.2.0",
            "_view_name": "StyleView",
            "description_width": ""
          }
        },
        "4a0436962701461ea54b9cf8dca86b61": {
          "model_module": "@jupyter-widgets/controls",
          "model_name": "HBoxModel",
          "model_module_version": "1.5.0",
          "state": {
            "_dom_classes": [],
            "_model_module": "@jupyter-widgets/controls",
            "_model_module_version": "1.5.0",
            "_model_name": "HBoxModel",
            "_view_count": null,
            "_view_module": "@jupyter-widgets/controls",
            "_view_module_version": "1.5.0",
            "_view_name": "HBoxView",
            "box_style": "",
            "children": [
              "IPY_MODEL_db9df682a4a448ec95cdba76daea3291",
              "IPY_MODEL_7530e047a5a045e4aec27e43ccfbf4a4",
              "IPY_MODEL_015b63e1f3f3424fa296a8608de32d40"
            ],
            "layout": "IPY_MODEL_b9f8bca11dba4f7aa71939b253be0216"
          }
        },
        "db9df682a4a448ec95cdba76daea3291": {
          "model_module": "@jupyter-widgets/controls",
          "model_name": "HTMLModel",
          "model_module_version": "1.5.0",
          "state": {
            "_dom_classes": [],
            "_model_module": "@jupyter-widgets/controls",
            "_model_module_version": "1.5.0",
            "_model_name": "HTMLModel",
            "_view_count": null,
            "_view_module": "@jupyter-widgets/controls",
            "_view_module_version": "1.5.0",
            "_view_name": "HTMLView",
            "description": "",
            "description_tooltip": null,
            "layout": "IPY_MODEL_932d568f32344cf79f3694771485ba41",
            "placeholder": "​",
            "style": "IPY_MODEL_d028c750d298466caa61118d48658e97",
            "value": "Downloading: 100%"
          }
        },
        "7530e047a5a045e4aec27e43ccfbf4a4": {
          "model_module": "@jupyter-widgets/controls",
          "model_name": "FloatProgressModel",
          "model_module_version": "1.5.0",
          "state": {
            "_dom_classes": [],
            "_model_module": "@jupyter-widgets/controls",
            "_model_module_version": "1.5.0",
            "_model_name": "FloatProgressModel",
            "_view_count": null,
            "_view_module": "@jupyter-widgets/controls",
            "_view_module_version": "1.5.0",
            "_view_name": "ProgressView",
            "bar_style": "success",
            "description": "",
            "description_tooltip": null,
            "layout": "IPY_MODEL_b0d59936d56443fb9b0b14713dd865cd",
            "max": 28,
            "min": 0,
            "orientation": "horizontal",
            "style": "IPY_MODEL_f6216dd7043c45b4ab67073e53c17e47",
            "value": 28
          }
        },
        "015b63e1f3f3424fa296a8608de32d40": {
          "model_module": "@jupyter-widgets/controls",
          "model_name": "HTMLModel",
          "model_module_version": "1.5.0",
          "state": {
            "_dom_classes": [],
            "_model_module": "@jupyter-widgets/controls",
            "_model_module_version": "1.5.0",
            "_model_name": "HTMLModel",
            "_view_count": null,
            "_view_module": "@jupyter-widgets/controls",
            "_view_module_version": "1.5.0",
            "_view_name": "HTMLView",
            "description": "",
            "description_tooltip": null,
            "layout": "IPY_MODEL_05af48b2771f4369b61ca861082c96f2",
            "placeholder": "​",
            "style": "IPY_MODEL_8419d20d69cd4d759c43bcf4cef7d050",
            "value": " 28.0/28.0 [00:00&lt;00:00, 449B/s]"
          }
        },
        "b9f8bca11dba4f7aa71939b253be0216": {
          "model_module": "@jupyter-widgets/base",
          "model_name": "LayoutModel",
          "model_module_version": "1.2.0",
          "state": {
            "_model_module": "@jupyter-widgets/base",
            "_model_module_version": "1.2.0",
            "_model_name": "LayoutModel",
            "_view_count": null,
            "_view_module": "@jupyter-widgets/base",
            "_view_module_version": "1.2.0",
            "_view_name": "LayoutView",
            "align_content": null,
            "align_items": null,
            "align_self": null,
            "border": null,
            "bottom": null,
            "display": null,
            "flex": null,
            "flex_flow": null,
            "grid_area": null,
            "grid_auto_columns": null,
            "grid_auto_flow": null,
            "grid_auto_rows": null,
            "grid_column": null,
            "grid_gap": null,
            "grid_row": null,
            "grid_template_areas": null,
            "grid_template_columns": null,
            "grid_template_rows": null,
            "height": null,
            "justify_content": null,
            "justify_items": null,
            "left": null,
            "margin": null,
            "max_height": null,
            "max_width": null,
            "min_height": null,
            "min_width": null,
            "object_fit": null,
            "object_position": null,
            "order": null,
            "overflow": null,
            "overflow_x": null,
            "overflow_y": null,
            "padding": null,
            "right": null,
            "top": null,
            "visibility": null,
            "width": null
          }
        },
        "932d568f32344cf79f3694771485ba41": {
          "model_module": "@jupyter-widgets/base",
          "model_name": "LayoutModel",
          "model_module_version": "1.2.0",
          "state": {
            "_model_module": "@jupyter-widgets/base",
            "_model_module_version": "1.2.0",
            "_model_name": "LayoutModel",
            "_view_count": null,
            "_view_module": "@jupyter-widgets/base",
            "_view_module_version": "1.2.0",
            "_view_name": "LayoutView",
            "align_content": null,
            "align_items": null,
            "align_self": null,
            "border": null,
            "bottom": null,
            "display": null,
            "flex": null,
            "flex_flow": null,
            "grid_area": null,
            "grid_auto_columns": null,
            "grid_auto_flow": null,
            "grid_auto_rows": null,
            "grid_column": null,
            "grid_gap": null,
            "grid_row": null,
            "grid_template_areas": null,
            "grid_template_columns": null,
            "grid_template_rows": null,
            "height": null,
            "justify_content": null,
            "justify_items": null,
            "left": null,
            "margin": null,
            "max_height": null,
            "max_width": null,
            "min_height": null,
            "min_width": null,
            "object_fit": null,
            "object_position": null,
            "order": null,
            "overflow": null,
            "overflow_x": null,
            "overflow_y": null,
            "padding": null,
            "right": null,
            "top": null,
            "visibility": null,
            "width": null
          }
        },
        "d028c750d298466caa61118d48658e97": {
          "model_module": "@jupyter-widgets/controls",
          "model_name": "DescriptionStyleModel",
          "model_module_version": "1.5.0",
          "state": {
            "_model_module": "@jupyter-widgets/controls",
            "_model_module_version": "1.5.0",
            "_model_name": "DescriptionStyleModel",
            "_view_count": null,
            "_view_module": "@jupyter-widgets/base",
            "_view_module_version": "1.2.0",
            "_view_name": "StyleView",
            "description_width": ""
          }
        },
        "b0d59936d56443fb9b0b14713dd865cd": {
          "model_module": "@jupyter-widgets/base",
          "model_name": "LayoutModel",
          "model_module_version": "1.2.0",
          "state": {
            "_model_module": "@jupyter-widgets/base",
            "_model_module_version": "1.2.0",
            "_model_name": "LayoutModel",
            "_view_count": null,
            "_view_module": "@jupyter-widgets/base",
            "_view_module_version": "1.2.0",
            "_view_name": "LayoutView",
            "align_content": null,
            "align_items": null,
            "align_self": null,
            "border": null,
            "bottom": null,
            "display": null,
            "flex": null,
            "flex_flow": null,
            "grid_area": null,
            "grid_auto_columns": null,
            "grid_auto_flow": null,
            "grid_auto_rows": null,
            "grid_column": null,
            "grid_gap": null,
            "grid_row": null,
            "grid_template_areas": null,
            "grid_template_columns": null,
            "grid_template_rows": null,
            "height": null,
            "justify_content": null,
            "justify_items": null,
            "left": null,
            "margin": null,
            "max_height": null,
            "max_width": null,
            "min_height": null,
            "min_width": null,
            "object_fit": null,
            "object_position": null,
            "order": null,
            "overflow": null,
            "overflow_x": null,
            "overflow_y": null,
            "padding": null,
            "right": null,
            "top": null,
            "visibility": null,
            "width": null
          }
        },
        "f6216dd7043c45b4ab67073e53c17e47": {
          "model_module": "@jupyter-widgets/controls",
          "model_name": "ProgressStyleModel",
          "model_module_version": "1.5.0",
          "state": {
            "_model_module": "@jupyter-widgets/controls",
            "_model_module_version": "1.5.0",
            "_model_name": "ProgressStyleModel",
            "_view_count": null,
            "_view_module": "@jupyter-widgets/base",
            "_view_module_version": "1.2.0",
            "_view_name": "StyleView",
            "bar_color": null,
            "description_width": ""
          }
        },
        "05af48b2771f4369b61ca861082c96f2": {
          "model_module": "@jupyter-widgets/base",
          "model_name": "LayoutModel",
          "model_module_version": "1.2.0",
          "state": {
            "_model_module": "@jupyter-widgets/base",
            "_model_module_version": "1.2.0",
            "_model_name": "LayoutModel",
            "_view_count": null,
            "_view_module": "@jupyter-widgets/base",
            "_view_module_version": "1.2.0",
            "_view_name": "LayoutView",
            "align_content": null,
            "align_items": null,
            "align_self": null,
            "border": null,
            "bottom": null,
            "display": null,
            "flex": null,
            "flex_flow": null,
            "grid_area": null,
            "grid_auto_columns": null,
            "grid_auto_flow": null,
            "grid_auto_rows": null,
            "grid_column": null,
            "grid_gap": null,
            "grid_row": null,
            "grid_template_areas": null,
            "grid_template_columns": null,
            "grid_template_rows": null,
            "height": null,
            "justify_content": null,
            "justify_items": null,
            "left": null,
            "margin": null,
            "max_height": null,
            "max_width": null,
            "min_height": null,
            "min_width": null,
            "object_fit": null,
            "object_position": null,
            "order": null,
            "overflow": null,
            "overflow_x": null,
            "overflow_y": null,
            "padding": null,
            "right": null,
            "top": null,
            "visibility": null,
            "width": null
          }
        },
        "8419d20d69cd4d759c43bcf4cef7d050": {
          "model_module": "@jupyter-widgets/controls",
          "model_name": "DescriptionStyleModel",
          "model_module_version": "1.5.0",
          "state": {
            "_model_module": "@jupyter-widgets/controls",
            "_model_module_version": "1.5.0",
            "_model_name": "DescriptionStyleModel",
            "_view_count": null,
            "_view_module": "@jupyter-widgets/base",
            "_view_module_version": "1.2.0",
            "_view_name": "StyleView",
            "description_width": ""
          }
        },
        "d479cc67fb014ce9b6d86aaa0d65198d": {
          "model_module": "@jupyter-widgets/controls",
          "model_name": "HBoxModel",
          "model_module_version": "1.5.0",
          "state": {
            "_dom_classes": [],
            "_model_module": "@jupyter-widgets/controls",
            "_model_module_version": "1.5.0",
            "_model_name": "HBoxModel",
            "_view_count": null,
            "_view_module": "@jupyter-widgets/controls",
            "_view_module_version": "1.5.0",
            "_view_name": "HBoxView",
            "box_style": "",
            "children": [
              "IPY_MODEL_70702ed09d8641e4b0c7f84012b18618",
              "IPY_MODEL_902ca6803f32492ba79f5c32af8472d9",
              "IPY_MODEL_30e93420ed0a498bbc5d88b132545d30"
            ],
            "layout": "IPY_MODEL_f21099968ef84e26906679288ac9ebe4"
          }
        },
        "70702ed09d8641e4b0c7f84012b18618": {
          "model_module": "@jupyter-widgets/controls",
          "model_name": "HTMLModel",
          "model_module_version": "1.5.0",
          "state": {
            "_dom_classes": [],
            "_model_module": "@jupyter-widgets/controls",
            "_model_module_version": "1.5.0",
            "_model_name": "HTMLModel",
            "_view_count": null,
            "_view_module": "@jupyter-widgets/controls",
            "_view_module_version": "1.5.0",
            "_view_name": "HTMLView",
            "description": "",
            "description_tooltip": null,
            "layout": "IPY_MODEL_08e5c12f4ce9432082a3479c3b001acc",
            "placeholder": "​",
            "style": "IPY_MODEL_7b8d7283d64642fe991a4264e18193e4",
            "value": "Downloading: 100%"
          }
        },
        "902ca6803f32492ba79f5c32af8472d9": {
          "model_module": "@jupyter-widgets/controls",
          "model_name": "FloatProgressModel",
          "model_module_version": "1.5.0",
          "state": {
            "_dom_classes": [],
            "_model_module": "@jupyter-widgets/controls",
            "_model_module_version": "1.5.0",
            "_model_name": "FloatProgressModel",
            "_view_count": null,
            "_view_module": "@jupyter-widgets/controls",
            "_view_module_version": "1.5.0",
            "_view_name": "ProgressView",
            "bar_style": "success",
            "description": "",
            "description_tooltip": null,
            "layout": "IPY_MODEL_d8e1d9d2d39a43f5a788adb38e6a7c09",
            "max": 483,
            "min": 0,
            "orientation": "horizontal",
            "style": "IPY_MODEL_9c6e3ebbfef14e9eb7d94a61e0a060dc",
            "value": 483
          }
        },
        "30e93420ed0a498bbc5d88b132545d30": {
          "model_module": "@jupyter-widgets/controls",
          "model_name": "HTMLModel",
          "model_module_version": "1.5.0",
          "state": {
            "_dom_classes": [],
            "_model_module": "@jupyter-widgets/controls",
            "_model_module_version": "1.5.0",
            "_model_name": "HTMLModel",
            "_view_count": null,
            "_view_module": "@jupyter-widgets/controls",
            "_view_module_version": "1.5.0",
            "_view_name": "HTMLView",
            "description": "",
            "description_tooltip": null,
            "layout": "IPY_MODEL_197c878530204bad94a9fdd281bdafd1",
            "placeholder": "​",
            "style": "IPY_MODEL_e1b00a407df041d4b719f5c762018a24",
            "value": " 483/483 [00:00&lt;00:00, 13.6kB/s]"
          }
        },
        "f21099968ef84e26906679288ac9ebe4": {
          "model_module": "@jupyter-widgets/base",
          "model_name": "LayoutModel",
          "model_module_version": "1.2.0",
          "state": {
            "_model_module": "@jupyter-widgets/base",
            "_model_module_version": "1.2.0",
            "_model_name": "LayoutModel",
            "_view_count": null,
            "_view_module": "@jupyter-widgets/base",
            "_view_module_version": "1.2.0",
            "_view_name": "LayoutView",
            "align_content": null,
            "align_items": null,
            "align_self": null,
            "border": null,
            "bottom": null,
            "display": null,
            "flex": null,
            "flex_flow": null,
            "grid_area": null,
            "grid_auto_columns": null,
            "grid_auto_flow": null,
            "grid_auto_rows": null,
            "grid_column": null,
            "grid_gap": null,
            "grid_row": null,
            "grid_template_areas": null,
            "grid_template_columns": null,
            "grid_template_rows": null,
            "height": null,
            "justify_content": null,
            "justify_items": null,
            "left": null,
            "margin": null,
            "max_height": null,
            "max_width": null,
            "min_height": null,
            "min_width": null,
            "object_fit": null,
            "object_position": null,
            "order": null,
            "overflow": null,
            "overflow_x": null,
            "overflow_y": null,
            "padding": null,
            "right": null,
            "top": null,
            "visibility": null,
            "width": null
          }
        },
        "08e5c12f4ce9432082a3479c3b001acc": {
          "model_module": "@jupyter-widgets/base",
          "model_name": "LayoutModel",
          "model_module_version": "1.2.0",
          "state": {
            "_model_module": "@jupyter-widgets/base",
            "_model_module_version": "1.2.0",
            "_model_name": "LayoutModel",
            "_view_count": null,
            "_view_module": "@jupyter-widgets/base",
            "_view_module_version": "1.2.0",
            "_view_name": "LayoutView",
            "align_content": null,
            "align_items": null,
            "align_self": null,
            "border": null,
            "bottom": null,
            "display": null,
            "flex": null,
            "flex_flow": null,
            "grid_area": null,
            "grid_auto_columns": null,
            "grid_auto_flow": null,
            "grid_auto_rows": null,
            "grid_column": null,
            "grid_gap": null,
            "grid_row": null,
            "grid_template_areas": null,
            "grid_template_columns": null,
            "grid_template_rows": null,
            "height": null,
            "justify_content": null,
            "justify_items": null,
            "left": null,
            "margin": null,
            "max_height": null,
            "max_width": null,
            "min_height": null,
            "min_width": null,
            "object_fit": null,
            "object_position": null,
            "order": null,
            "overflow": null,
            "overflow_x": null,
            "overflow_y": null,
            "padding": null,
            "right": null,
            "top": null,
            "visibility": null,
            "width": null
          }
        },
        "7b8d7283d64642fe991a4264e18193e4": {
          "model_module": "@jupyter-widgets/controls",
          "model_name": "DescriptionStyleModel",
          "model_module_version": "1.5.0",
          "state": {
            "_model_module": "@jupyter-widgets/controls",
            "_model_module_version": "1.5.0",
            "_model_name": "DescriptionStyleModel",
            "_view_count": null,
            "_view_module": "@jupyter-widgets/base",
            "_view_module_version": "1.2.0",
            "_view_name": "StyleView",
            "description_width": ""
          }
        },
        "d8e1d9d2d39a43f5a788adb38e6a7c09": {
          "model_module": "@jupyter-widgets/base",
          "model_name": "LayoutModel",
          "model_module_version": "1.2.0",
          "state": {
            "_model_module": "@jupyter-widgets/base",
            "_model_module_version": "1.2.0",
            "_model_name": "LayoutModel",
            "_view_count": null,
            "_view_module": "@jupyter-widgets/base",
            "_view_module_version": "1.2.0",
            "_view_name": "LayoutView",
            "align_content": null,
            "align_items": null,
            "align_self": null,
            "border": null,
            "bottom": null,
            "display": null,
            "flex": null,
            "flex_flow": null,
            "grid_area": null,
            "grid_auto_columns": null,
            "grid_auto_flow": null,
            "grid_auto_rows": null,
            "grid_column": null,
            "grid_gap": null,
            "grid_row": null,
            "grid_template_areas": null,
            "grid_template_columns": null,
            "grid_template_rows": null,
            "height": null,
            "justify_content": null,
            "justify_items": null,
            "left": null,
            "margin": null,
            "max_height": null,
            "max_width": null,
            "min_height": null,
            "min_width": null,
            "object_fit": null,
            "object_position": null,
            "order": null,
            "overflow": null,
            "overflow_x": null,
            "overflow_y": null,
            "padding": null,
            "right": null,
            "top": null,
            "visibility": null,
            "width": null
          }
        },
        "9c6e3ebbfef14e9eb7d94a61e0a060dc": {
          "model_module": "@jupyter-widgets/controls",
          "model_name": "ProgressStyleModel",
          "model_module_version": "1.5.0",
          "state": {
            "_model_module": "@jupyter-widgets/controls",
            "_model_module_version": "1.5.0",
            "_model_name": "ProgressStyleModel",
            "_view_count": null,
            "_view_module": "@jupyter-widgets/base",
            "_view_module_version": "1.2.0",
            "_view_name": "StyleView",
            "bar_color": null,
            "description_width": ""
          }
        },
        "197c878530204bad94a9fdd281bdafd1": {
          "model_module": "@jupyter-widgets/base",
          "model_name": "LayoutModel",
          "model_module_version": "1.2.0",
          "state": {
            "_model_module": "@jupyter-widgets/base",
            "_model_module_version": "1.2.0",
            "_model_name": "LayoutModel",
            "_view_count": null,
            "_view_module": "@jupyter-widgets/base",
            "_view_module_version": "1.2.0",
            "_view_name": "LayoutView",
            "align_content": null,
            "align_items": null,
            "align_self": null,
            "border": null,
            "bottom": null,
            "display": null,
            "flex": null,
            "flex_flow": null,
            "grid_area": null,
            "grid_auto_columns": null,
            "grid_auto_flow": null,
            "grid_auto_rows": null,
            "grid_column": null,
            "grid_gap": null,
            "grid_row": null,
            "grid_template_areas": null,
            "grid_template_columns": null,
            "grid_template_rows": null,
            "height": null,
            "justify_content": null,
            "justify_items": null,
            "left": null,
            "margin": null,
            "max_height": null,
            "max_width": null,
            "min_height": null,
            "min_width": null,
            "object_fit": null,
            "object_position": null,
            "order": null,
            "overflow": null,
            "overflow_x": null,
            "overflow_y": null,
            "padding": null,
            "right": null,
            "top": null,
            "visibility": null,
            "width": null
          }
        },
        "e1b00a407df041d4b719f5c762018a24": {
          "model_module": "@jupyter-widgets/controls",
          "model_name": "DescriptionStyleModel",
          "model_module_version": "1.5.0",
          "state": {
            "_model_module": "@jupyter-widgets/controls",
            "_model_module_version": "1.5.0",
            "_model_name": "DescriptionStyleModel",
            "_view_count": null,
            "_view_module": "@jupyter-widgets/base",
            "_view_module_version": "1.2.0",
            "_view_name": "StyleView",
            "description_width": ""
          }
        },
        "eead05921c6a4291b4fcff247b5fa09e": {
          "model_module": "@jupyter-widgets/controls",
          "model_name": "HBoxModel",
          "model_module_version": "1.5.0",
          "state": {
            "_dom_classes": [],
            "_model_module": "@jupyter-widgets/controls",
            "_model_module_version": "1.5.0",
            "_model_name": "HBoxModel",
            "_view_count": null,
            "_view_module": "@jupyter-widgets/controls",
            "_view_module_version": "1.5.0",
            "_view_name": "HBoxView",
            "box_style": "",
            "children": [
              "IPY_MODEL_531ca1971a374190b4b07fd8ae3ba21f",
              "IPY_MODEL_04339af9eebe49ea98b33b6ce1a5d39e",
              "IPY_MODEL_4c12d6f7d4fb4e4484293d67ea9afd2d"
            ],
            "layout": "IPY_MODEL_aa7756f02ea946fb9d7f8274ab86aeca"
          }
        },
        "531ca1971a374190b4b07fd8ae3ba21f": {
          "model_module": "@jupyter-widgets/controls",
          "model_name": "HTMLModel",
          "model_module_version": "1.5.0",
          "state": {
            "_dom_classes": [],
            "_model_module": "@jupyter-widgets/controls",
            "_model_module_version": "1.5.0",
            "_model_name": "HTMLModel",
            "_view_count": null,
            "_view_module": "@jupyter-widgets/controls",
            "_view_module_version": "1.5.0",
            "_view_name": "HTMLView",
            "description": "",
            "description_tooltip": null,
            "layout": "IPY_MODEL_72231752f8b44a61b1850a9c09482325",
            "placeholder": "​",
            "style": "IPY_MODEL_f5b1c39a49ac4d04b53821576cfee3d9",
            "value": "Downloading: 100%"
          }
        },
        "04339af9eebe49ea98b33b6ce1a5d39e": {
          "model_module": "@jupyter-widgets/controls",
          "model_name": "FloatProgressModel",
          "model_module_version": "1.5.0",
          "state": {
            "_dom_classes": [],
            "_model_module": "@jupyter-widgets/controls",
            "_model_module_version": "1.5.0",
            "_model_name": "FloatProgressModel",
            "_view_count": null,
            "_view_module": "@jupyter-widgets/controls",
            "_view_module_version": "1.5.0",
            "_view_name": "ProgressView",
            "bar_style": "success",
            "description": "",
            "description_tooltip": null,
            "layout": "IPY_MODEL_4950f35242d44a8b9b48b87f160100a7",
            "max": 231508,
            "min": 0,
            "orientation": "horizontal",
            "style": "IPY_MODEL_3703ac9198e0491eb51ad5183da62d7f",
            "value": 231508
          }
        },
        "4c12d6f7d4fb4e4484293d67ea9afd2d": {
          "model_module": "@jupyter-widgets/controls",
          "model_name": "HTMLModel",
          "model_module_version": "1.5.0",
          "state": {
            "_dom_classes": [],
            "_model_module": "@jupyter-widgets/controls",
            "_model_module_version": "1.5.0",
            "_model_name": "HTMLModel",
            "_view_count": null,
            "_view_module": "@jupyter-widgets/controls",
            "_view_module_version": "1.5.0",
            "_view_name": "HTMLView",
            "description": "",
            "description_tooltip": null,
            "layout": "IPY_MODEL_eb36bf354ea74aa1b09fbdf657640830",
            "placeholder": "​",
            "style": "IPY_MODEL_664ee23bced1428999b4c75d64c708a2",
            "value": " 232k/232k [00:00&lt;00:00, 671kB/s]"
          }
        },
        "aa7756f02ea946fb9d7f8274ab86aeca": {
          "model_module": "@jupyter-widgets/base",
          "model_name": "LayoutModel",
          "model_module_version": "1.2.0",
          "state": {
            "_model_module": "@jupyter-widgets/base",
            "_model_module_version": "1.2.0",
            "_model_name": "LayoutModel",
            "_view_count": null,
            "_view_module": "@jupyter-widgets/base",
            "_view_module_version": "1.2.0",
            "_view_name": "LayoutView",
            "align_content": null,
            "align_items": null,
            "align_self": null,
            "border": null,
            "bottom": null,
            "display": null,
            "flex": null,
            "flex_flow": null,
            "grid_area": null,
            "grid_auto_columns": null,
            "grid_auto_flow": null,
            "grid_auto_rows": null,
            "grid_column": null,
            "grid_gap": null,
            "grid_row": null,
            "grid_template_areas": null,
            "grid_template_columns": null,
            "grid_template_rows": null,
            "height": null,
            "justify_content": null,
            "justify_items": null,
            "left": null,
            "margin": null,
            "max_height": null,
            "max_width": null,
            "min_height": null,
            "min_width": null,
            "object_fit": null,
            "object_position": null,
            "order": null,
            "overflow": null,
            "overflow_x": null,
            "overflow_y": null,
            "padding": null,
            "right": null,
            "top": null,
            "visibility": null,
            "width": null
          }
        },
        "72231752f8b44a61b1850a9c09482325": {
          "model_module": "@jupyter-widgets/base",
          "model_name": "LayoutModel",
          "model_module_version": "1.2.0",
          "state": {
            "_model_module": "@jupyter-widgets/base",
            "_model_module_version": "1.2.0",
            "_model_name": "LayoutModel",
            "_view_count": null,
            "_view_module": "@jupyter-widgets/base",
            "_view_module_version": "1.2.0",
            "_view_name": "LayoutView",
            "align_content": null,
            "align_items": null,
            "align_self": null,
            "border": null,
            "bottom": null,
            "display": null,
            "flex": null,
            "flex_flow": null,
            "grid_area": null,
            "grid_auto_columns": null,
            "grid_auto_flow": null,
            "grid_auto_rows": null,
            "grid_column": null,
            "grid_gap": null,
            "grid_row": null,
            "grid_template_areas": null,
            "grid_template_columns": null,
            "grid_template_rows": null,
            "height": null,
            "justify_content": null,
            "justify_items": null,
            "left": null,
            "margin": null,
            "max_height": null,
            "max_width": null,
            "min_height": null,
            "min_width": null,
            "object_fit": null,
            "object_position": null,
            "order": null,
            "overflow": null,
            "overflow_x": null,
            "overflow_y": null,
            "padding": null,
            "right": null,
            "top": null,
            "visibility": null,
            "width": null
          }
        },
        "f5b1c39a49ac4d04b53821576cfee3d9": {
          "model_module": "@jupyter-widgets/controls",
          "model_name": "DescriptionStyleModel",
          "model_module_version": "1.5.0",
          "state": {
            "_model_module": "@jupyter-widgets/controls",
            "_model_module_version": "1.5.0",
            "_model_name": "DescriptionStyleModel",
            "_view_count": null,
            "_view_module": "@jupyter-widgets/base",
            "_view_module_version": "1.2.0",
            "_view_name": "StyleView",
            "description_width": ""
          }
        },
        "4950f35242d44a8b9b48b87f160100a7": {
          "model_module": "@jupyter-widgets/base",
          "model_name": "LayoutModel",
          "model_module_version": "1.2.0",
          "state": {
            "_model_module": "@jupyter-widgets/base",
            "_model_module_version": "1.2.0",
            "_model_name": "LayoutModel",
            "_view_count": null,
            "_view_module": "@jupyter-widgets/base",
            "_view_module_version": "1.2.0",
            "_view_name": "LayoutView",
            "align_content": null,
            "align_items": null,
            "align_self": null,
            "border": null,
            "bottom": null,
            "display": null,
            "flex": null,
            "flex_flow": null,
            "grid_area": null,
            "grid_auto_columns": null,
            "grid_auto_flow": null,
            "grid_auto_rows": null,
            "grid_column": null,
            "grid_gap": null,
            "grid_row": null,
            "grid_template_areas": null,
            "grid_template_columns": null,
            "grid_template_rows": null,
            "height": null,
            "justify_content": null,
            "justify_items": null,
            "left": null,
            "margin": null,
            "max_height": null,
            "max_width": null,
            "min_height": null,
            "min_width": null,
            "object_fit": null,
            "object_position": null,
            "order": null,
            "overflow": null,
            "overflow_x": null,
            "overflow_y": null,
            "padding": null,
            "right": null,
            "top": null,
            "visibility": null,
            "width": null
          }
        },
        "3703ac9198e0491eb51ad5183da62d7f": {
          "model_module": "@jupyter-widgets/controls",
          "model_name": "ProgressStyleModel",
          "model_module_version": "1.5.0",
          "state": {
            "_model_module": "@jupyter-widgets/controls",
            "_model_module_version": "1.5.0",
            "_model_name": "ProgressStyleModel",
            "_view_count": null,
            "_view_module": "@jupyter-widgets/base",
            "_view_module_version": "1.2.0",
            "_view_name": "StyleView",
            "bar_color": null,
            "description_width": ""
          }
        },
        "eb36bf354ea74aa1b09fbdf657640830": {
          "model_module": "@jupyter-widgets/base",
          "model_name": "LayoutModel",
          "model_module_version": "1.2.0",
          "state": {
            "_model_module": "@jupyter-widgets/base",
            "_model_module_version": "1.2.0",
            "_model_name": "LayoutModel",
            "_view_count": null,
            "_view_module": "@jupyter-widgets/base",
            "_view_module_version": "1.2.0",
            "_view_name": "LayoutView",
            "align_content": null,
            "align_items": null,
            "align_self": null,
            "border": null,
            "bottom": null,
            "display": null,
            "flex": null,
            "flex_flow": null,
            "grid_area": null,
            "grid_auto_columns": null,
            "grid_auto_flow": null,
            "grid_auto_rows": null,
            "grid_column": null,
            "grid_gap": null,
            "grid_row": null,
            "grid_template_areas": null,
            "grid_template_columns": null,
            "grid_template_rows": null,
            "height": null,
            "justify_content": null,
            "justify_items": null,
            "left": null,
            "margin": null,
            "max_height": null,
            "max_width": null,
            "min_height": null,
            "min_width": null,
            "object_fit": null,
            "object_position": null,
            "order": null,
            "overflow": null,
            "overflow_x": null,
            "overflow_y": null,
            "padding": null,
            "right": null,
            "top": null,
            "visibility": null,
            "width": null
          }
        },
        "664ee23bced1428999b4c75d64c708a2": {
          "model_module": "@jupyter-widgets/controls",
          "model_name": "DescriptionStyleModel",
          "model_module_version": "1.5.0",
          "state": {
            "_model_module": "@jupyter-widgets/controls",
            "_model_module_version": "1.5.0",
            "_model_name": "DescriptionStyleModel",
            "_view_count": null,
            "_view_module": "@jupyter-widgets/base",
            "_view_module_version": "1.2.0",
            "_view_name": "StyleView",
            "description_width": ""
          }
        },
        "c74ce031b9a044ef9048ca38c5025b6d": {
          "model_module": "@jupyter-widgets/controls",
          "model_name": "HBoxModel",
          "model_module_version": "1.5.0",
          "state": {
            "_dom_classes": [],
            "_model_module": "@jupyter-widgets/controls",
            "_model_module_version": "1.5.0",
            "_model_name": "HBoxModel",
            "_view_count": null,
            "_view_module": "@jupyter-widgets/controls",
            "_view_module_version": "1.5.0",
            "_view_name": "HBoxView",
            "box_style": "",
            "children": [
              "IPY_MODEL_9f2b88a9bdfe4400a83155c205b5d5b5",
              "IPY_MODEL_ccad3d7a85dc4636a8bf027e2a96f8c5",
              "IPY_MODEL_1c58c9274925453d96ccc08e282d04ca"
            ],
            "layout": "IPY_MODEL_0e5f64a7518849b383e4246358817dac"
          }
        },
        "9f2b88a9bdfe4400a83155c205b5d5b5": {
          "model_module": "@jupyter-widgets/controls",
          "model_name": "HTMLModel",
          "model_module_version": "1.5.0",
          "state": {
            "_dom_classes": [],
            "_model_module": "@jupyter-widgets/controls",
            "_model_module_version": "1.5.0",
            "_model_name": "HTMLModel",
            "_view_count": null,
            "_view_module": "@jupyter-widgets/controls",
            "_view_module_version": "1.5.0",
            "_view_name": "HTMLView",
            "description": "",
            "description_tooltip": null,
            "layout": "IPY_MODEL_ac264e3491f74c9a833d7cdb9c193bad",
            "placeholder": "​",
            "style": "IPY_MODEL_0d03453c9f2b4395947b07a337762ebe",
            "value": "Downloading: 100%"
          }
        },
        "ccad3d7a85dc4636a8bf027e2a96f8c5": {
          "model_module": "@jupyter-widgets/controls",
          "model_name": "FloatProgressModel",
          "model_module_version": "1.5.0",
          "state": {
            "_dom_classes": [],
            "_model_module": "@jupyter-widgets/controls",
            "_model_module_version": "1.5.0",
            "_model_name": "FloatProgressModel",
            "_view_count": null,
            "_view_module": "@jupyter-widgets/controls",
            "_view_module_version": "1.5.0",
            "_view_name": "ProgressView",
            "bar_style": "success",
            "description": "",
            "description_tooltip": null,
            "layout": "IPY_MODEL_d424ac993484460ca23accf01bf6ecc5",
            "max": 466062,
            "min": 0,
            "orientation": "horizontal",
            "style": "IPY_MODEL_e3838f8a9cd146e786161490faf508df",
            "value": 466062
          }
        },
        "1c58c9274925453d96ccc08e282d04ca": {
          "model_module": "@jupyter-widgets/controls",
          "model_name": "HTMLModel",
          "model_module_version": "1.5.0",
          "state": {
            "_dom_classes": [],
            "_model_module": "@jupyter-widgets/controls",
            "_model_module_version": "1.5.0",
            "_model_name": "HTMLModel",
            "_view_count": null,
            "_view_module": "@jupyter-widgets/controls",
            "_view_module_version": "1.5.0",
            "_view_name": "HTMLView",
            "description": "",
            "description_tooltip": null,
            "layout": "IPY_MODEL_b1442eedd4a844e8889a698fcd23724d",
            "placeholder": "​",
            "style": "IPY_MODEL_fa33ddeb08c640b189bc62034e64d91f",
            "value": " 466k/466k [00:00&lt;00:00, 846kB/s]"
          }
        },
        "0e5f64a7518849b383e4246358817dac": {
          "model_module": "@jupyter-widgets/base",
          "model_name": "LayoutModel",
          "model_module_version": "1.2.0",
          "state": {
            "_model_module": "@jupyter-widgets/base",
            "_model_module_version": "1.2.0",
            "_model_name": "LayoutModel",
            "_view_count": null,
            "_view_module": "@jupyter-widgets/base",
            "_view_module_version": "1.2.0",
            "_view_name": "LayoutView",
            "align_content": null,
            "align_items": null,
            "align_self": null,
            "border": null,
            "bottom": null,
            "display": null,
            "flex": null,
            "flex_flow": null,
            "grid_area": null,
            "grid_auto_columns": null,
            "grid_auto_flow": null,
            "grid_auto_rows": null,
            "grid_column": null,
            "grid_gap": null,
            "grid_row": null,
            "grid_template_areas": null,
            "grid_template_columns": null,
            "grid_template_rows": null,
            "height": null,
            "justify_content": null,
            "justify_items": null,
            "left": null,
            "margin": null,
            "max_height": null,
            "max_width": null,
            "min_height": null,
            "min_width": null,
            "object_fit": null,
            "object_position": null,
            "order": null,
            "overflow": null,
            "overflow_x": null,
            "overflow_y": null,
            "padding": null,
            "right": null,
            "top": null,
            "visibility": null,
            "width": null
          }
        },
        "ac264e3491f74c9a833d7cdb9c193bad": {
          "model_module": "@jupyter-widgets/base",
          "model_name": "LayoutModel",
          "model_module_version": "1.2.0",
          "state": {
            "_model_module": "@jupyter-widgets/base",
            "_model_module_version": "1.2.0",
            "_model_name": "LayoutModel",
            "_view_count": null,
            "_view_module": "@jupyter-widgets/base",
            "_view_module_version": "1.2.0",
            "_view_name": "LayoutView",
            "align_content": null,
            "align_items": null,
            "align_self": null,
            "border": null,
            "bottom": null,
            "display": null,
            "flex": null,
            "flex_flow": null,
            "grid_area": null,
            "grid_auto_columns": null,
            "grid_auto_flow": null,
            "grid_auto_rows": null,
            "grid_column": null,
            "grid_gap": null,
            "grid_row": null,
            "grid_template_areas": null,
            "grid_template_columns": null,
            "grid_template_rows": null,
            "height": null,
            "justify_content": null,
            "justify_items": null,
            "left": null,
            "margin": null,
            "max_height": null,
            "max_width": null,
            "min_height": null,
            "min_width": null,
            "object_fit": null,
            "object_position": null,
            "order": null,
            "overflow": null,
            "overflow_x": null,
            "overflow_y": null,
            "padding": null,
            "right": null,
            "top": null,
            "visibility": null,
            "width": null
          }
        },
        "0d03453c9f2b4395947b07a337762ebe": {
          "model_module": "@jupyter-widgets/controls",
          "model_name": "DescriptionStyleModel",
          "model_module_version": "1.5.0",
          "state": {
            "_model_module": "@jupyter-widgets/controls",
            "_model_module_version": "1.5.0",
            "_model_name": "DescriptionStyleModel",
            "_view_count": null,
            "_view_module": "@jupyter-widgets/base",
            "_view_module_version": "1.2.0",
            "_view_name": "StyleView",
            "description_width": ""
          }
        },
        "d424ac993484460ca23accf01bf6ecc5": {
          "model_module": "@jupyter-widgets/base",
          "model_name": "LayoutModel",
          "model_module_version": "1.2.0",
          "state": {
            "_model_module": "@jupyter-widgets/base",
            "_model_module_version": "1.2.0",
            "_model_name": "LayoutModel",
            "_view_count": null,
            "_view_module": "@jupyter-widgets/base",
            "_view_module_version": "1.2.0",
            "_view_name": "LayoutView",
            "align_content": null,
            "align_items": null,
            "align_self": null,
            "border": null,
            "bottom": null,
            "display": null,
            "flex": null,
            "flex_flow": null,
            "grid_area": null,
            "grid_auto_columns": null,
            "grid_auto_flow": null,
            "grid_auto_rows": null,
            "grid_column": null,
            "grid_gap": null,
            "grid_row": null,
            "grid_template_areas": null,
            "grid_template_columns": null,
            "grid_template_rows": null,
            "height": null,
            "justify_content": null,
            "justify_items": null,
            "left": null,
            "margin": null,
            "max_height": null,
            "max_width": null,
            "min_height": null,
            "min_width": null,
            "object_fit": null,
            "object_position": null,
            "order": null,
            "overflow": null,
            "overflow_x": null,
            "overflow_y": null,
            "padding": null,
            "right": null,
            "top": null,
            "visibility": null,
            "width": null
          }
        },
        "e3838f8a9cd146e786161490faf508df": {
          "model_module": "@jupyter-widgets/controls",
          "model_name": "ProgressStyleModel",
          "model_module_version": "1.5.0",
          "state": {
            "_model_module": "@jupyter-widgets/controls",
            "_model_module_version": "1.5.0",
            "_model_name": "ProgressStyleModel",
            "_view_count": null,
            "_view_module": "@jupyter-widgets/base",
            "_view_module_version": "1.2.0",
            "_view_name": "StyleView",
            "bar_color": null,
            "description_width": ""
          }
        },
        "b1442eedd4a844e8889a698fcd23724d": {
          "model_module": "@jupyter-widgets/base",
          "model_name": "LayoutModel",
          "model_module_version": "1.2.0",
          "state": {
            "_model_module": "@jupyter-widgets/base",
            "_model_module_version": "1.2.0",
            "_model_name": "LayoutModel",
            "_view_count": null,
            "_view_module": "@jupyter-widgets/base",
            "_view_module_version": "1.2.0",
            "_view_name": "LayoutView",
            "align_content": null,
            "align_items": null,
            "align_self": null,
            "border": null,
            "bottom": null,
            "display": null,
            "flex": null,
            "flex_flow": null,
            "grid_area": null,
            "grid_auto_columns": null,
            "grid_auto_flow": null,
            "grid_auto_rows": null,
            "grid_column": null,
            "grid_gap": null,
            "grid_row": null,
            "grid_template_areas": null,
            "grid_template_columns": null,
            "grid_template_rows": null,
            "height": null,
            "justify_content": null,
            "justify_items": null,
            "left": null,
            "margin": null,
            "max_height": null,
            "max_width": null,
            "min_height": null,
            "min_width": null,
            "object_fit": null,
            "object_position": null,
            "order": null,
            "overflow": null,
            "overflow_x": null,
            "overflow_y": null,
            "padding": null,
            "right": null,
            "top": null,
            "visibility": null,
            "width": null
          }
        },
        "fa33ddeb08c640b189bc62034e64d91f": {
          "model_module": "@jupyter-widgets/controls",
          "model_name": "DescriptionStyleModel",
          "model_module_version": "1.5.0",
          "state": {
            "_model_module": "@jupyter-widgets/controls",
            "_model_module_version": "1.5.0",
            "_model_name": "DescriptionStyleModel",
            "_view_count": null,
            "_view_module": "@jupyter-widgets/base",
            "_view_module_version": "1.2.0",
            "_view_name": "StyleView",
            "description_width": ""
          }
        }
      }
    }
  },
  "cells": [
    {
      "cell_type": "code",
      "execution_count": 1,
      "metadata": {
        "id": "80gFpxOv8X86"
      },
      "outputs": [],
      "source": [
        "import pandas as pd\n",
        "import numpy as np\n",
        "import matplotlib.pyplot as plt\n",
        "%matplotlib inline"
      ]
    },
    {
      "cell_type": "code",
      "source": [
        "# import module\n",
        "import requests\n",
        "import pandas as pd\n",
        "from bs4 import BeautifulSoup\n",
        "  \n",
        "# link for extract html data\n",
        "def getdata(url):\n",
        "    r = requests.get(url)\n",
        "    return r.text\n",
        "article=''\n",
        "htmldata = getdata(\"https://indianexpress.com/article/cities/chandigarh/punjab-congress-santokh-singh-chaudhary-dies-8381027/\")\n",
        "soup = BeautifulSoup(htmldata, 'html.parser')\n",
        "data = ''\n",
        "for data in soup.find_all(\"p\"):\n",
        "    article=article+(data.get_text())"
      ],
      "metadata": {
        "id": "Nexn80khA_-T"
      },
      "execution_count": 2,
      "outputs": []
    },
    {
      "cell_type": "code",
      "source": [
        "article"
      ],
      "metadata": {
        "colab": {
          "base_uri": "https://localhost:8080/",
          "height": 178
        },
        "id": "f69fbUnwuMZB",
        "outputId": "ec8f84dc-0fb0-4885-bd07-ed092b0b2da5"
      },
      "execution_count": 3,
      "outputs": [
        {
          "output_type": "execute_result",
          "data": {
            "text/plain": [
              "'Santokh Singh Chaudhary, Congress party’s Lok Sabha MP\\xa0 from Jalandhar, passed away while participating in the Bharat Jodo Yatra on Saturday morning. He had suffered a cardiac arrest a short while after he delivered a speech atSarav Dharam Manch in Phillaur, as per initial reports.Santokh Singh was participating in the Yatra which was passing through the Phillaur area when the tragedy occurred. It is learnt that the deceased MP had come out with Rahul from Kusht Ashram when he collapsed. He was rushed to the Virk Hospital in nearby Phagwara where the doctors declared him dead.The Phillaur Assembly constituency is currently represented in the Punjab Legislative Assembly by Santokh Singh Chaudhary’s son Vikramjit Singh Chaudhary. Santokh Singh, meanwhile, had won the Lok Sabha election twice — first in 2014 and later in 2019.The Yatra was stalled following the incidents. Rahul is visiting the MP’s family at the hospital, along with MLA Rana Gurjeet Singh and Vijay Inder Singla.Leaders offer condolencesPunjab Chief Minister Bhagwant Mann took to Twitter to issue condolences. “I am deeply saddened by the untimely death of Congress Member of Parliament from Jalandhar, Santokh Singh Chowdhury. May God rest his soul in peace,” he wrote in Punjabi.Lok Sabha Speaker Om Birla said that Santokh Singh was always disciplined in the Parliament and vocal about issues of public interest.“Condolences on the demise of Lok Sabha MP from Jalandhar Shri Santokh Singh ji. In his long public life, he was always vocal on issues of public interest. Discipline in the House was the specialty of his personality. May God give peace to the departed soul. My condolences to the family members,” he tweeted in Hindi.\\xa0Varisu box office collection day 3: Thalapathy Vijay starrer is competing head-to-head with Thunivu'"
            ],
            "application/vnd.google.colaboratory.intrinsic+json": {
              "type": "string"
            }
          },
          "metadata": {},
          "execution_count": 3
        }
      ]
    },
    {
      "cell_type": "markdown",
      "source": [
        "##Summarizer"
      ],
      "metadata": {
        "id": "t5iBEr5gKsdU"
      }
    },
    {
      "cell_type": "code",
      "source": [
        "!pip install transformers\n",
        "!pip install scipy\n",
        "\n",
        "!pip install torch\n",
        "!pip install transformers\n",
        "\n",
        "import torch\n",
        "from transformers import AutoTokenizer, AutoModelWithLMHead"
      ],
      "metadata": {
        "colab": {
          "base_uri": "https://localhost:8080/"
        },
        "id": "Ro03NjuHu5SZ",
        "outputId": "77e2f350-dc99-4d1f-a62c-a065ba7204e7"
      },
      "execution_count": 4,
      "outputs": [
        {
          "output_type": "stream",
          "name": "stdout",
          "text": [
            "Looking in indexes: https://pypi.org/simple, https://us-python.pkg.dev/colab-wheels/public/simple/\n",
            "Collecting transformers\n",
            "  Downloading transformers-4.25.1-py3-none-any.whl (5.8 MB)\n",
            "\u001b[2K     \u001b[90m━━━━━━━━━━━━━━━━━━━━━━━━━━━━━━━━━━━━━━━━\u001b[0m \u001b[32m5.8/5.8 MB\u001b[0m \u001b[31m53.7 MB/s\u001b[0m eta \u001b[36m0:00:00\u001b[0m\n",
            "\u001b[?25hRequirement already satisfied: filelock in /usr/local/lib/python3.8/dist-packages (from transformers) (3.9.0)\n",
            "Requirement already satisfied: tqdm>=4.27 in /usr/local/lib/python3.8/dist-packages (from transformers) (4.64.1)\n",
            "Requirement already satisfied: requests in /usr/local/lib/python3.8/dist-packages (from transformers) (2.25.1)\n",
            "Requirement already satisfied: packaging>=20.0 in /usr/local/lib/python3.8/dist-packages (from transformers) (21.3)\n",
            "Requirement already satisfied: pyyaml>=5.1 in /usr/local/lib/python3.8/dist-packages (from transformers) (6.0)\n",
            "Collecting huggingface-hub<1.0,>=0.10.0\n",
            "  Downloading huggingface_hub-0.11.1-py3-none-any.whl (182 kB)\n",
            "\u001b[2K     \u001b[90m━━━━━━━━━━━━━━━━━━━━━━━━━━━━━━━━━━━━━━\u001b[0m \u001b[32m182.4/182.4 KB\u001b[0m \u001b[31m21.7 MB/s\u001b[0m eta \u001b[36m0:00:00\u001b[0m\n",
            "\u001b[?25hRequirement already satisfied: regex!=2019.12.17 in /usr/local/lib/python3.8/dist-packages (from transformers) (2022.6.2)\n",
            "Requirement already satisfied: numpy>=1.17 in /usr/local/lib/python3.8/dist-packages (from transformers) (1.21.6)\n",
            "Collecting tokenizers!=0.11.3,<0.14,>=0.11.1\n",
            "  Downloading tokenizers-0.13.2-cp38-cp38-manylinux_2_17_x86_64.manylinux2014_x86_64.whl (7.6 MB)\n",
            "\u001b[2K     \u001b[90m━━━━━━━━━━━━━━━━━━━━━━━━━━━━━━━━━━━━━━━━\u001b[0m \u001b[32m7.6/7.6 MB\u001b[0m \u001b[31m81.5 MB/s\u001b[0m eta \u001b[36m0:00:00\u001b[0m\n",
            "\u001b[?25hRequirement already satisfied: typing-extensions>=3.7.4.3 in /usr/local/lib/python3.8/dist-packages (from huggingface-hub<1.0,>=0.10.0->transformers) (4.4.0)\n",
            "Requirement already satisfied: pyparsing!=3.0.5,>=2.0.2 in /usr/local/lib/python3.8/dist-packages (from packaging>=20.0->transformers) (3.0.9)\n",
            "Requirement already satisfied: urllib3<1.27,>=1.21.1 in /usr/local/lib/python3.8/dist-packages (from requests->transformers) (1.24.3)\n",
            "Requirement already satisfied: idna<3,>=2.5 in /usr/local/lib/python3.8/dist-packages (from requests->transformers) (2.10)\n",
            "Requirement already satisfied: chardet<5,>=3.0.2 in /usr/local/lib/python3.8/dist-packages (from requests->transformers) (4.0.0)\n",
            "Requirement already satisfied: certifi>=2017.4.17 in /usr/local/lib/python3.8/dist-packages (from requests->transformers) (2022.12.7)\n",
            "Installing collected packages: tokenizers, huggingface-hub, transformers\n",
            "Successfully installed huggingface-hub-0.11.1 tokenizers-0.13.2 transformers-4.25.1\n",
            "Looking in indexes: https://pypi.org/simple, https://us-python.pkg.dev/colab-wheels/public/simple/\n",
            "Requirement already satisfied: scipy in /usr/local/lib/python3.8/dist-packages (1.7.3)\n",
            "Requirement already satisfied: numpy<1.23.0,>=1.16.5 in /usr/local/lib/python3.8/dist-packages (from scipy) (1.21.6)\n",
            "Looking in indexes: https://pypi.org/simple, https://us-python.pkg.dev/colab-wheels/public/simple/\n",
            "Requirement already satisfied: torch in /usr/local/lib/python3.8/dist-packages (1.13.0+cu116)\n",
            "Requirement already satisfied: typing-extensions in /usr/local/lib/python3.8/dist-packages (from torch) (4.4.0)\n",
            "Looking in indexes: https://pypi.org/simple, https://us-python.pkg.dev/colab-wheels/public/simple/\n",
            "Requirement already satisfied: transformers in /usr/local/lib/python3.8/dist-packages (4.25.1)\n",
            "Requirement already satisfied: tqdm>=4.27 in /usr/local/lib/python3.8/dist-packages (from transformers) (4.64.1)\n",
            "Requirement already satisfied: filelock in /usr/local/lib/python3.8/dist-packages (from transformers) (3.9.0)\n",
            "Requirement already satisfied: tokenizers!=0.11.3,<0.14,>=0.11.1 in /usr/local/lib/python3.8/dist-packages (from transformers) (0.13.2)\n",
            "Requirement already satisfied: pyyaml>=5.1 in /usr/local/lib/python3.8/dist-packages (from transformers) (6.0)\n",
            "Requirement already satisfied: numpy>=1.17 in /usr/local/lib/python3.8/dist-packages (from transformers) (1.21.6)\n",
            "Requirement already satisfied: requests in /usr/local/lib/python3.8/dist-packages (from transformers) (2.25.1)\n",
            "Requirement already satisfied: regex!=2019.12.17 in /usr/local/lib/python3.8/dist-packages (from transformers) (2022.6.2)\n",
            "Requirement already satisfied: packaging>=20.0 in /usr/local/lib/python3.8/dist-packages (from transformers) (21.3)\n",
            "Requirement already satisfied: huggingface-hub<1.0,>=0.10.0 in /usr/local/lib/python3.8/dist-packages (from transformers) (0.11.1)\n",
            "Requirement already satisfied: typing-extensions>=3.7.4.3 in /usr/local/lib/python3.8/dist-packages (from huggingface-hub<1.0,>=0.10.0->transformers) (4.4.0)\n",
            "Requirement already satisfied: pyparsing!=3.0.5,>=2.0.2 in /usr/local/lib/python3.8/dist-packages (from packaging>=20.0->transformers) (3.0.9)\n",
            "Requirement already satisfied: certifi>=2017.4.17 in /usr/local/lib/python3.8/dist-packages (from requests->transformers) (2022.12.7)\n",
            "Requirement already satisfied: urllib3<1.27,>=1.21.1 in /usr/local/lib/python3.8/dist-packages (from requests->transformers) (1.24.3)\n",
            "Requirement already satisfied: chardet<5,>=3.0.2 in /usr/local/lib/python3.8/dist-packages (from requests->transformers) (4.0.0)\n",
            "Requirement already satisfied: idna<3,>=2.5 in /usr/local/lib/python3.8/dist-packages (from requests->transformers) (2.10)\n"
          ]
        }
      ]
    },
    {
      "cell_type": "code",
      "source": [
        "#Downloading tokenizer and model:\n",
        "\n",
        "tokenizer = AutoTokenizer.from_pretrained('t5-base')\n",
        "model = AutoModelWithLMHead.from_pretrained('t5-base', return_dict=True)"
      ],
      "metadata": {
        "colab": {
          "base_uri": "https://localhost:8080/",
          "height": 308,
          "referenced_widgets": [
            "dc3b082ddcb3413bace98ef4805e5b3e",
            "51f310e032bd490fb904e155284cc033",
            "e6e8ae64231043deae2d30caca9f642b",
            "99e10ac75ebe43e0ae0a75951d535b88",
            "69babab1ead64f2f8e6512197cd1103f",
            "cf6f12c9e9b242038256870a536d84ef",
            "9d185729b0f94fc19770d70f13aea7ce",
            "2d1b8bfcc46c4a7d90ab9aa890086eb9",
            "40941f3b27264621a94a90992ef7bef7",
            "488a200e8c58460098d9dc69a543dbe4",
            "18b5c54939f94495b7056b86276104ac",
            "9a62e347a4d6477ca25b2b9833c30fbc",
            "8b387a78b816417986ec4ba7483ad233",
            "073d7eebeef2436984e3e582b3baee70",
            "3a0efc1e43b14eab80ffee25deabfa1a",
            "842b058fe17a46a0a527d3ea1e6eb26b",
            "777d7e17e26746ba9c407c02a0f2a024",
            "fe99a687bbbf4543a3bfedb8764f25bf",
            "42554a7f1ad14754a65e1933f1f8b6b7",
            "04003e2350ba40e797c4ef8d40a3bc63",
            "378d5d2ff4184befb2a86edd8e2542bc",
            "3296b3e6af8448d791dde29d616039b7",
            "beb38a5e2a53451db6c928b041f28828",
            "57cac63f0e1c4d47b70b4ae9ec7dcbf7",
            "20b227ddd03145cfa72a895d70f3018a",
            "5f38c04bb3874e53b115792355b083ec",
            "e33c0cdf456447a9b1f6d47a41fbbd7c",
            "304bd0a4d1dd43a8908bec4fdb352916",
            "40ec40675fab454397433dcacd5787c9",
            "f121fcf5253945cf91260e6d47b74e77",
            "2669c3a9c8fe4ead987ea9f378aa6a06",
            "8d29536c71484baf8e7f64eb72f989ec",
            "c42c88a61b4f4eeba4df98b47ba74335",
            "68fd1830960046f6a19c8bfd542c0c21",
            "5be6b9e393b74300a06184044bb8e78f",
            "e8dc9f4bec924cbfb8948e9b95388b53",
            "aecab12f1ce64003a8642090ab441ccc",
            "c502b77c9d3a441b87f25aab9579906d",
            "318f5837835742acbce44bbdf9486d34",
            "63626d283cc740c586d5fb78766af7f8",
            "866a9317f523499c86ff52262a2caea3",
            "8dcc5f10593542d59c34fa43a3947765",
            "6b802e5ca26b4d858138c7cf0c00d6d5",
            "6deafb1f43984aa283b10e1b7b819194"
          ]
        },
        "id": "Yb8Vdx6pvukT",
        "outputId": "3cbd9489-4866-4796-ea29-d5484ef9c73c"
      },
      "execution_count": 5,
      "outputs": [
        {
          "output_type": "display_data",
          "data": {
            "text/plain": [
              "Downloading:   0%|          | 0.00/1.21k [00:00<?, ?B/s]"
            ],
            "application/vnd.jupyter.widget-view+json": {
              "version_major": 2,
              "version_minor": 0,
              "model_id": "dc3b082ddcb3413bace98ef4805e5b3e"
            }
          },
          "metadata": {}
        },
        {
          "output_type": "display_data",
          "data": {
            "text/plain": [
              "Downloading:   0%|          | 0.00/792k [00:00<?, ?B/s]"
            ],
            "application/vnd.jupyter.widget-view+json": {
              "version_major": 2,
              "version_minor": 0,
              "model_id": "9a62e347a4d6477ca25b2b9833c30fbc"
            }
          },
          "metadata": {}
        },
        {
          "output_type": "display_data",
          "data": {
            "text/plain": [
              "Downloading:   0%|          | 0.00/1.39M [00:00<?, ?B/s]"
            ],
            "application/vnd.jupyter.widget-view+json": {
              "version_major": 2,
              "version_minor": 0,
              "model_id": "beb38a5e2a53451db6c928b041f28828"
            }
          },
          "metadata": {}
        },
        {
          "output_type": "stream",
          "name": "stderr",
          "text": [
            "/usr/local/lib/python3.8/dist-packages/transformers/models/t5/tokenization_t5_fast.py:155: FutureWarning: This tokenizer was incorrectly instantiated with a model max length of 512 which will be corrected in Transformers v5.\n",
            "For now, this behavior is kept to avoid breaking backwards compatibility when padding/encoding with `truncation is True`.\n",
            "- Be aware that you SHOULD NOT rely on t5-base automatically truncating your input to 512 when padding/encoding.\n",
            "- If you want to encode/pad to sequences longer than 512 you can either instantiate this tokenizer with `model_max_length` or pass `max_length` when encoding/padding.\n",
            "- To avoid this warning, please instantiate this tokenizer with `model_max_length` set to your preferred value.\n",
            "  warnings.warn(\n",
            "/usr/local/lib/python3.8/dist-packages/transformers/models/auto/modeling_auto.py:1177: FutureWarning: The class `AutoModelWithLMHead` is deprecated and will be removed in a future version. Please use `AutoModelForCausalLM` for causal language models, `AutoModelForMaskedLM` for masked language models and `AutoModelForSeq2SeqLM` for encoder-decoder models.\n",
            "  warnings.warn(\n"
          ]
        },
        {
          "output_type": "display_data",
          "data": {
            "text/plain": [
              "Downloading:   0%|          | 0.00/892M [00:00<?, ?B/s]"
            ],
            "application/vnd.jupyter.widget-view+json": {
              "version_major": 2,
              "version_minor": 0,
              "model_id": "68fd1830960046f6a19c8bfd542c0c21"
            }
          },
          "metadata": {}
        }
      ]
    },
    {
      "cell_type": "code",
      "source": [
        "!pip install transformers\n",
        "!pip install scipy"
      ],
      "metadata": {
        "colab": {
          "base_uri": "https://localhost:8080/"
        },
        "id": "knMLVTNav__K",
        "outputId": "44d70cfb-f417-4499-f253-8dfeae864e24"
      },
      "execution_count": 6,
      "outputs": [
        {
          "output_type": "stream",
          "name": "stdout",
          "text": [
            "Looking in indexes: https://pypi.org/simple, https://us-python.pkg.dev/colab-wheels/public/simple/\n",
            "Requirement already satisfied: transformers in /usr/local/lib/python3.8/dist-packages (4.25.1)\n",
            "Requirement already satisfied: huggingface-hub<1.0,>=0.10.0 in /usr/local/lib/python3.8/dist-packages (from transformers) (0.11.1)\n",
            "Requirement already satisfied: packaging>=20.0 in /usr/local/lib/python3.8/dist-packages (from transformers) (21.3)\n",
            "Requirement already satisfied: requests in /usr/local/lib/python3.8/dist-packages (from transformers) (2.25.1)\n",
            "Requirement already satisfied: pyyaml>=5.1 in /usr/local/lib/python3.8/dist-packages (from transformers) (6.0)\n",
            "Requirement already satisfied: tokenizers!=0.11.3,<0.14,>=0.11.1 in /usr/local/lib/python3.8/dist-packages (from transformers) (0.13.2)\n",
            "Requirement already satisfied: tqdm>=4.27 in /usr/local/lib/python3.8/dist-packages (from transformers) (4.64.1)\n",
            "Requirement already satisfied: numpy>=1.17 in /usr/local/lib/python3.8/dist-packages (from transformers) (1.21.6)\n",
            "Requirement already satisfied: filelock in /usr/local/lib/python3.8/dist-packages (from transformers) (3.9.0)\n",
            "Requirement already satisfied: regex!=2019.12.17 in /usr/local/lib/python3.8/dist-packages (from transformers) (2022.6.2)\n",
            "Requirement already satisfied: typing-extensions>=3.7.4.3 in /usr/local/lib/python3.8/dist-packages (from huggingface-hub<1.0,>=0.10.0->transformers) (4.4.0)\n",
            "Requirement already satisfied: pyparsing!=3.0.5,>=2.0.2 in /usr/local/lib/python3.8/dist-packages (from packaging>=20.0->transformers) (3.0.9)\n",
            "Requirement already satisfied: urllib3<1.27,>=1.21.1 in /usr/local/lib/python3.8/dist-packages (from requests->transformers) (1.24.3)\n",
            "Requirement already satisfied: chardet<5,>=3.0.2 in /usr/local/lib/python3.8/dist-packages (from requests->transformers) (4.0.0)\n",
            "Requirement already satisfied: idna<3,>=2.5 in /usr/local/lib/python3.8/dist-packages (from requests->transformers) (2.10)\n",
            "Requirement already satisfied: certifi>=2017.4.17 in /usr/local/lib/python3.8/dist-packages (from requests->transformers) (2022.12.7)\n",
            "Looking in indexes: https://pypi.org/simple, https://us-python.pkg.dev/colab-wheels/public/simple/\n",
            "Requirement already satisfied: scipy in /usr/local/lib/python3.8/dist-packages (1.7.3)\n",
            "Requirement already satisfied: numpy<1.23.0,>=1.16.5 in /usr/local/lib/python3.8/dist-packages (from scipy) (1.21.6)\n"
          ]
        }
      ]
    },
    {
      "cell_type": "code",
      "source": [
        "!pip install torch\n",
        "!pip install transformers\n",
        "\n",
        "import torch\n",
        "from transformers import AutoTokenizer, AutoModelWithLMHead"
      ],
      "metadata": {
        "colab": {
          "base_uri": "https://localhost:8080/"
        },
        "id": "GzisHZxuwNfU",
        "outputId": "7894b775-59d6-4b1f-8929-5bfa35bd89d2"
      },
      "execution_count": 7,
      "outputs": [
        {
          "output_type": "stream",
          "name": "stdout",
          "text": [
            "Looking in indexes: https://pypi.org/simple, https://us-python.pkg.dev/colab-wheels/public/simple/\n",
            "Requirement already satisfied: torch in /usr/local/lib/python3.8/dist-packages (1.13.0+cu116)\n",
            "Requirement already satisfied: typing-extensions in /usr/local/lib/python3.8/dist-packages (from torch) (4.4.0)\n",
            "Looking in indexes: https://pypi.org/simple, https://us-python.pkg.dev/colab-wheels/public/simple/\n",
            "Requirement already satisfied: transformers in /usr/local/lib/python3.8/dist-packages (4.25.1)\n",
            "Requirement already satisfied: numpy>=1.17 in /usr/local/lib/python3.8/dist-packages (from transformers) (1.21.6)\n",
            "Requirement already satisfied: tokenizers!=0.11.3,<0.14,>=0.11.1 in /usr/local/lib/python3.8/dist-packages (from transformers) (0.13.2)\n",
            "Requirement already satisfied: packaging>=20.0 in /usr/local/lib/python3.8/dist-packages (from transformers) (21.3)\n",
            "Requirement already satisfied: regex!=2019.12.17 in /usr/local/lib/python3.8/dist-packages (from transformers) (2022.6.2)\n",
            "Requirement already satisfied: pyyaml>=5.1 in /usr/local/lib/python3.8/dist-packages (from transformers) (6.0)\n",
            "Requirement already satisfied: filelock in /usr/local/lib/python3.8/dist-packages (from transformers) (3.9.0)\n",
            "Requirement already satisfied: tqdm>=4.27 in /usr/local/lib/python3.8/dist-packages (from transformers) (4.64.1)\n",
            "Requirement already satisfied: huggingface-hub<1.0,>=0.10.0 in /usr/local/lib/python3.8/dist-packages (from transformers) (0.11.1)\n",
            "Requirement already satisfied: requests in /usr/local/lib/python3.8/dist-packages (from transformers) (2.25.1)\n",
            "Requirement already satisfied: typing-extensions>=3.7.4.3 in /usr/local/lib/python3.8/dist-packages (from huggingface-hub<1.0,>=0.10.0->transformers) (4.4.0)\n",
            "Requirement already satisfied: pyparsing!=3.0.5,>=2.0.2 in /usr/local/lib/python3.8/dist-packages (from packaging>=20.0->transformers) (3.0.9)\n",
            "Requirement already satisfied: certifi>=2017.4.17 in /usr/local/lib/python3.8/dist-packages (from requests->transformers) (2022.12.7)\n",
            "Requirement already satisfied: idna<3,>=2.5 in /usr/local/lib/python3.8/dist-packages (from requests->transformers) (2.10)\n",
            "Requirement already satisfied: chardet<5,>=3.0.2 in /usr/local/lib/python3.8/dist-packages (from requests->transformers) (4.0.0)\n",
            "Requirement already satisfied: urllib3<1.27,>=1.21.1 in /usr/local/lib/python3.8/dist-packages (from requests->transformers) (1.24.3)\n"
          ]
        }
      ]
    },
    {
      "cell_type": "code",
      "source": [
        "#Downloading tokenizer and model:\n",
        "\n",
        "tokenizer = AutoTokenizer.from_pretrained('t5-base')\n",
        "model = AutoModelWithLMHead.from_pretrained('t5-base', return_dict=True)"
      ],
      "metadata": {
        "id": "NVncfMFdwQ3f"
      },
      "execution_count": 8,
      "outputs": []
    },
    {
      "cell_type": "code",
      "source": [
        "import string\n",
        "import re\n",
        "def review_cleaning(text):\n",
        "    '''Make text lowercase, remove text in square brackets,remove links,remove punctuation\n",
        "    and remove words containing numbers.'''\n",
        "    # text = str(text).lower()\n",
        "    text = re.sub('\\[.*?\\]', ' ', text)\n",
        "    text = re.sub('https?://\\S+|www\\.\\S+', ' ', text)\n",
        "    text = re.sub('<.*?>+', ' ', text)\n",
        "    text = re.sub('[%s]' % re.escape(string.punctuation), ' ', text)\n",
        "    text = re.sub('\\n', ' ', text)\n",
        "    text = re.sub(\"'\",' ',text)\n",
        "    # text = re.sub('\\w*\\d\\w*', '', text)\n",
        "    return text\n",
        "\n",
        "article=review_cleaning(article)\n",
        "article"
      ],
      "metadata": {
        "colab": {
          "base_uri": "https://localhost:8080/",
          "height": 178
        },
        "id": "ofEx0N4zm18o",
        "outputId": "f657cb35-c52c-4a1f-f764-2a345494bf85"
      },
      "execution_count": 10,
      "outputs": [
        {
          "output_type": "execute_result",
          "data": {
            "text/plain": [
              "'Santokh Singh Chaudhary  Congress party’s Lok Sabha MP\\xa0 from Jalandhar  passed away while participating in the Bharat Jodo Yatra on Saturday morning  He had suffered a cardiac arrest a short while after he delivered a speech atSarav Dharam Manch in Phillaur  as per initial reports Santokh Singh was participating in the Yatra which was passing through the Phillaur area when the tragedy occurred  It is learnt that the deceased MP had come out with Rahul from Kusht Ashram when he collapsed  He was rushed to the Virk Hospital in nearby Phagwara where the doctors declared him dead The Phillaur Assembly constituency is currently represented in the Punjab Legislative Assembly by Santokh Singh Chaudhary’s son Vikramjit Singh Chaudhary  Santokh Singh  meanwhile  had won the Lok Sabha election twice — first in 2014 and later in 2019 The Yatra was stalled following the incidents  Rahul is visiting the MP’s family at the hospital  along with MLA Rana Gurjeet Singh and Vijay Inder Singla Leaders offer condolencesPunjab Chief Minister Bhagwant Mann took to Twitter to issue condolences  “I am deeply saddened by the untimely death of Congress Member of Parliament from Jalandhar  Santokh Singh Chowdhury  May God rest his soul in peace ” he wrote in Punjabi Lok Sabha Speaker Om Birla said that Santokh Singh was always disciplined in the Parliament and vocal about issues of public interest “Condolences on the demise of Lok Sabha MP from Jalandhar Shri Santokh Singh ji  In his long public life  he was always vocal on issues of public interest  Discipline in the House was the specialty of his personality  May God give peace to the departed soul  My condolences to the family members ” he tweeted in Hindi \\xa0Varisu box office collection day 3  Thalapathy Vijay starrer is competing head to head with Thunivu'"
            ],
            "application/vnd.google.colaboratory.intrinsic+json": {
              "type": "string"
            }
          },
          "metadata": {},
          "execution_count": 10
        }
      ]
    },
    {
      "cell_type": "code",
      "source": [
        "print(\"Enter Maximum Length of Summary\")\n",
        "maxi=int(input())"
      ],
      "metadata": {
        "colab": {
          "base_uri": "https://localhost:8080/"
        },
        "id": "8eqrkVOu9yDo",
        "outputId": "620b2adf-6f98-44b1-f61e-d6d96f8fc35c"
      },
      "execution_count": 11,
      "outputs": [
        {
          "name": "stdout",
          "output_type": "stream",
          "text": [
            "Enter Maximum Length of Summary\n",
            "150\n"
          ]
        }
      ]
    },
    {
      "cell_type": "code",
      "source": [
        "sequence = article\n",
        "inputs = tokenizer.encode('summarize: '+ sequence, return_tensors='pt', max_length = 512, truncation = True)\n",
        "outputs = model.generate(inputs,min_length = 80, max_length = maxi,length_penalty = 5, num_beams=2)\n",
        "summary = tokenizer.decode(outputs[0])\n",
        "length = len(summary)\n",
        "print(summary[6:length-4])"
      ],
      "metadata": {
        "colab": {
          "base_uri": "https://localhost:8080/"
        },
        "id": "KRAmE7q2wUCK",
        "outputId": "72d20146-5759-432a-c5c5-43f009ee8b3b"
      },
      "execution_count": 12,
      "outputs": [
        {
          "output_type": "stream",
          "name": "stdout",
          "text": [
            "Santokh Singh Chaudhary died while participating in the Bharat Jodo Yatra on Saturday morning. he had suffered a cardiac arrest a short while after he delivered a speech at a manch in Phillaur. the deceased MP had come out with Rahul from Kusht Ashram when he collapsed He was rushed to the Virk Hospital in nearby Phagwara where the doctors declared him dead. meanwhile he had won the Lok Sabha election twice\n"
          ]
        }
      ]
    },
    {
      "cell_type": "code",
      "source": [
        "!pip install gTTS"
      ],
      "metadata": {
        "colab": {
          "base_uri": "https://localhost:8080/"
        },
        "id": "1hBvh2Nkweu1",
        "outputId": "46d0a9cf-275e-4a66-b6cb-0d40fa06d63b"
      },
      "execution_count": 13,
      "outputs": [
        {
          "output_type": "stream",
          "name": "stdout",
          "text": [
            "Looking in indexes: https://pypi.org/simple, https://us-python.pkg.dev/colab-wheels/public/simple/\n",
            "Collecting gTTS\n",
            "  Downloading gTTS-2.3.0-py3-none-any.whl (26 kB)\n",
            "Collecting click~=8.1.3\n",
            "  Downloading click-8.1.3-py3-none-any.whl (96 kB)\n",
            "\u001b[2K     \u001b[90m━━━━━━━━━━━━━━━━━━━━━━━━━━━━━━━━━━━━━━━━\u001b[0m \u001b[32m96.6/96.6 KB\u001b[0m \u001b[31m5.7 MB/s\u001b[0m eta \u001b[36m0:00:00\u001b[0m\n",
            "\u001b[?25hCollecting requests~=2.28.0\n",
            "  Downloading requests-2.28.2-py3-none-any.whl (62 kB)\n",
            "\u001b[2K     \u001b[90m━━━━━━━━━━━━━━━━━━━━━━━━━━━━━━━━━━━━━━━━\u001b[0m \u001b[32m62.8/62.8 KB\u001b[0m \u001b[31m7.0 MB/s\u001b[0m eta \u001b[36m0:00:00\u001b[0m\n",
            "\u001b[?25hCollecting six~=1.16.0\n",
            "  Downloading six-1.16.0-py2.py3-none-any.whl (11 kB)\n",
            "Requirement already satisfied: idna<4,>=2.5 in /usr/local/lib/python3.8/dist-packages (from requests~=2.28.0->gTTS) (2.10)\n",
            "Requirement already satisfied: urllib3<1.27,>=1.21.1 in /usr/local/lib/python3.8/dist-packages (from requests~=2.28.0->gTTS) (1.24.3)\n",
            "Requirement already satisfied: charset-normalizer<4,>=2 in /usr/local/lib/python3.8/dist-packages (from requests~=2.28.0->gTTS) (2.1.1)\n",
            "Requirement already satisfied: certifi>=2017.4.17 in /usr/local/lib/python3.8/dist-packages (from requests~=2.28.0->gTTS) (2022.12.7)\n",
            "Installing collected packages: six, requests, click, gTTS\n",
            "  Attempting uninstall: six\n",
            "    Found existing installation: six 1.15.0\n",
            "    Uninstalling six-1.15.0:\n",
            "      Successfully uninstalled six-1.15.0\n",
            "  Attempting uninstall: requests\n",
            "    Found existing installation: requests 2.25.1\n",
            "    Uninstalling requests-2.25.1:\n",
            "      Successfully uninstalled requests-2.25.1\n",
            "  Attempting uninstall: click\n",
            "    Found existing installation: click 7.1.2\n",
            "    Uninstalling click-7.1.2:\n",
            "      Successfully uninstalled click-7.1.2\n",
            "\u001b[31mERROR: pip's dependency resolver does not currently take into account all the packages that are installed. This behaviour is the source of the following dependency conflicts.\n",
            "ipython 7.9.0 requires jedi>=0.10, which is not installed.\n",
            "flask 1.1.4 requires click<8.0,>=5.1, but you have click 8.1.3 which is incompatible.\u001b[0m\u001b[31m\n",
            "\u001b[0mSuccessfully installed click-8.1.3 gTTS-2.3.0 requests-2.28.2 six-1.16.0\n"
          ]
        }
      ]
    },
    {
      "cell_type": "code",
      "source": [
        "text_to_speech=summary[6:length-4]"
      ],
      "metadata": {
        "id": "FKrDvULg13Dm"
      },
      "execution_count": 14,
      "outputs": []
    },
    {
      "cell_type": "code",
      "source": [
        "from gtts import gTTS\n",
        "from IPython.display import Audio\n",
        "tts = gTTS(text_to_speech)\n",
        "tts.save('1.wav')\n",
        "sound_file = '1.wav'\n",
        "Audio(sound_file, autoplay=True)"
      ],
      "metadata": {
        "colab": {
          "base_uri": "https://localhost:8080/",
          "height": 75
        },
        "id": "X6hiKqfo1X7X",
        "outputId": "83cf4796-f3b2-41b4-f6fa-3ca45ce866be"
      },
      "execution_count": 16,
      "outputs": [
        {
          "output_type": "execute_result",
          "data": {
            "text/plain": [
              "<IPython.lib.display.Audio object>"
            ],
            "text/html": [
              "\n",
              "                <audio  controls=\"controls\" autoplay=\"autoplay\">\n",
              "                    <source src=\"data:audio/x-wav;base64,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\" type=\"audio/x-wav\" />\n",
              "                    Your browser does not support the audio element.\n",
              "                </audio>\n",
              "              "
            ]
          },
          "metadata": {},
          "execution_count": 16
        }
      ]
    },
    {
      "cell_type": "markdown",
      "source": [
        "##Fake News "
      ],
      "metadata": {
        "id": "v7ZcgWYdFMJV"
      }
    },
    {
      "cell_type": "code",
      "source": [
        "import re\n",
        "import nltk\n",
        "from nltk.corpus import stopwords\n",
        "from nltk import WordNetLemmatizer\n",
        "from nltk.tokenize import word_tokenize\n",
        "from sklearn.feature_extraction.text import TfidfVectorizer\n",
        "\n",
        "from sklearn.linear_model import LogisticRegression\n"
      ],
      "metadata": {
        "id": "7253Lc-QFSMV"
      },
      "execution_count": 20,
      "outputs": []
    },
    {
      "cell_type": "code",
      "source": [
        "nltk.download('stopwords')\n",
        "nltk.download('wordnet')\n",
        "nltk.download('omw-1.4')\n",
        "nltk.download('punkt')\n",
        "nltk.download('averaged_perceptron_tagger')"
      ],
      "metadata": {
        "colab": {
          "base_uri": "https://localhost:8080/"
        },
        "id": "-UE44tS3FwfA",
        "outputId": "6f533203-cd9e-490f-ba3d-3f506720f019"
      },
      "execution_count": 21,
      "outputs": [
        {
          "output_type": "stream",
          "name": "stderr",
          "text": [
            "[nltk_data] Downloading package stopwords to /root/nltk_data...\n",
            "[nltk_data]   Unzipping corpora/stopwords.zip.\n",
            "[nltk_data] Downloading package wordnet to /root/nltk_data...\n",
            "[nltk_data] Downloading package omw-1.4 to /root/nltk_data...\n",
            "[nltk_data] Downloading package punkt to /root/nltk_data...\n",
            "[nltk_data]   Unzipping tokenizers/punkt.zip.\n",
            "[nltk_data] Downloading package averaged_perceptron_tagger to\n",
            "[nltk_data]     /root/nltk_data...\n",
            "[nltk_data]   Unzipping taggers/averaged_perceptron_tagger.zip.\n"
          ]
        },
        {
          "output_type": "execute_result",
          "data": {
            "text/plain": [
              "True"
            ]
          },
          "metadata": {},
          "execution_count": 21
        }
      ]
    },
    {
      "cell_type": "code",
      "source": [
        "lemmatizer = WordNetLemmatizer()\n",
        "from nltk.corpus import wordnet\n",
        "# Define function to lemmatize each word with its POS tag\n",
        " \n",
        "# POS_TAGGER_FUNCTION : TYPE 1\n",
        "def pos_tagger(nltk_tag):\n",
        "    if nltk_tag.startswith('J'):\n",
        "        return wordnet.ADJ\n",
        "    elif nltk_tag.startswith('V'):\n",
        "        return wordnet.VERB\n",
        "    elif nltk_tag.startswith('N'):\n",
        "        return wordnet.NOUN\n",
        "    elif nltk_tag.startswith('R'):\n",
        "        return wordnet.ADV\n",
        "    else:         \n",
        "        return None\n"
      ],
      "metadata": {
        "id": "EM8pB4TZG1Yw"
      },
      "execution_count": 22,
      "outputs": []
    },
    {
      "cell_type": "code",
      "source": [
        "pos_tagged = nltk.pos_tag(nltk.word_tokenize(article)) \n",
        "wordnet_tagged = list(map(lambda x: (x[0], pos_tagger(x[1])), pos_tagged))\n",
        "\n",
        "lemmatized_sentence = []\n",
        "for word, tag in wordnet_tagged:\n",
        "    if tag is None:\n",
        "        # if there is no available tag, append the token as is\n",
        "        lemmatized_sentence.append(word)\n",
        "    else:       \n",
        "        # else use the tag to lemmatize the token\n",
        "        lemmatized_sentence.append(lemmatizer.lemmatize(word, tag))\n",
        "lemmatized_sentence = \" \".join(lemmatized_sentence)"
      ],
      "metadata": {
        "id": "XHUOE16GHIzE"
      },
      "execution_count": 23,
      "outputs": []
    },
    {
      "cell_type": "code",
      "source": [
        "lemmatized_sentence"
      ],
      "metadata": {
        "colab": {
          "base_uri": "https://localhost:8080/",
          "height": 178
        },
        "id": "q0UhaF9LGRDo",
        "outputId": "e7680a81-a827-4910-f9b0-69ce580be90d"
      },
      "execution_count": 24,
      "outputs": [
        {
          "output_type": "execute_result",
          "data": {
            "text/plain": [
              "'Santokh Singh Chaudhary Congress party ’ s Lok Sabha MP from Jalandhar pass away while participate in the Bharat Jodo Yatra on Saturday morning He have suffer a cardiac arrest a short while after he deliver a speech atSarav Dharam Manch in Phillaur as per initial report Santokh Singh be participate in the Yatra which be pass through the Phillaur area when the tragedy occur It be learnt that the deceased MP have come out with Rahul from Kusht Ashram when he collapse He be rush to the Virk Hospital in nearby Phagwara where the doctor declare him dead The Phillaur Assembly constituency be currently represent in the Punjab Legislative Assembly by Santokh Singh Chaudhary ’ s son Vikramjit Singh Chaudhary Santokh Singh meanwhile have win the Lok Sabha election twice — first in 2014 and later in 2019 The Yatra be stall follow the incident Rahul be visit the MP ’ s family at the hospital along with MLA Rana Gurjeet Singh and Vijay Inder Singla Leaders offer condolencesPunjab Chief Minister Bhagwant Mann take to Twitter to issue condolence “ I be deeply sadden by the untimely death of Congress Member of Parliament from Jalandhar Santokh Singh Chowdhury May God rest his soul in peace ” he write in Punjabi Lok Sabha Speaker Om Birla say that Santokh Singh be always discipline in the Parliament and vocal about issue of public interest “ Condolences on the demise of Lok Sabha MP from Jalandhar Shri Santokh Singh ji In his long public life he be always vocal on issue of public interest Discipline in the House be the specialty of his personality May God give peace to the departed soul My condolence to the family member ” he tweet in Hindi Varisu box office collection day 3 Thalapathy Vijay starrer be compete head to head with Thunivu'"
            ],
            "application/vnd.google.colaboratory.intrinsic+json": {
              "type": "string"
            }
          },
          "metadata": {},
          "execution_count": 24
        }
      ]
    },
    {
      "cell_type": "code",
      "source": [
        "# import string\n",
        "# def review_cleaning(text):\n",
        "#     '''Make text lowercase, remove text in square brackets,remove links,remove punctuation\n",
        "#     and remove words containing numbers.'''\n",
        "#     text = str(text).lower()\n",
        "#     text = re.sub('\\[.*?\\]', '', text)\n",
        "#     text = re.sub('https?://\\S+|www\\.\\S+', '', text)\n",
        "#     text = re.sub('<.*?>+', '', text)\n",
        "#     text = re.sub('[%s]' % re.escape(string.punctuation), '', text)\n",
        "#     text = re.sub('\\n', '', text)\n",
        "#     text = re.sub(\"'\",'',text)\n",
        "#     text = re.sub('\\w*\\d\\w*', '', text)\n",
        "#     return text\n",
        "\n",
        "# article=review_cleaning(lemmatized_sentence)\n",
        "# article"
      ],
      "metadata": {
        "id": "9CMNEubkHiLw"
      },
      "execution_count": 25,
      "outputs": []
    },
    {
      "cell_type": "code",
      "source": [
        "import re\n",
        "pattern = re.compile(r'\\b(' + r'|'.join(stopwords.words('english')) + r')\\b\\s*')\n",
        "text = pattern.sub('', lemmatized_sentence)"
      ],
      "metadata": {
        "id": "4NsB-IpgH5SY"
      },
      "execution_count": 26,
      "outputs": []
    },
    {
      "cell_type": "code",
      "source": [
        "text"
      ],
      "metadata": {
        "colab": {
          "base_uri": "https://localhost:8080/",
          "height": 178
        },
        "id": "hl6q7cbdIpQg",
        "outputId": "322cb4e9-bafc-4ef1-c5c0-cd6f568b51b3"
      },
      "execution_count": 27,
      "outputs": [
        {
          "output_type": "execute_result",
          "data": {
            "text/plain": [
              "'Santokh Singh Chaudhary Congress party ’ Lok Sabha MP Jalandhar pass away participate Bharat Jodo Yatra Saturday morning He suffer cardiac arrest short deliver speech atSarav Dharam Manch Phillaur per initial report Santokh Singh participate Yatra pass Phillaur area tragedy occur It learnt deceased MP come Rahul Kusht Ashram collapse He rush Virk Hospital nearby Phagwara doctor declare dead The Phillaur Assembly constituency currently represent Punjab Legislative Assembly Santokh Singh Chaudhary ’ son Vikramjit Singh Chaudhary Santokh Singh meanwhile win Lok Sabha election twice — first 2014 later 2019 The Yatra stall follow incident Rahul visit MP ’ family hospital along MLA Rana Gurjeet Singh Vijay Inder Singla Leaders offer condolencesPunjab Chief Minister Bhagwant Mann take Twitter issue condolence “ I deeply sadden untimely death Congress Member Parliament Jalandhar Santokh Singh Chowdhury May God rest soul peace ” write Punjabi Lok Sabha Speaker Om Birla say Santokh Singh always discipline Parliament vocal issue public interest “ Condolences demise Lok Sabha MP Jalandhar Shri Santokh Singh ji In long public life always vocal issue public interest Discipline House specialty personality May God give peace departed soul My condolence family member ” tweet Hindi Varisu box office collection day 3 Thalapathy Vijay starrer compete head head Thunivu'"
            ],
            "application/vnd.google.colaboratory.intrinsic+json": {
              "type": "string"
            }
          },
          "metadata": {},
          "execution_count": 27
        }
      ]
    },
    {
      "cell_type": "code",
      "source": [
        "#Removing additional whitespaces \n",
        "article = re.sub('\\s+', ' ', text)\n",
        "\n",
        "article"
      ],
      "metadata": {
        "colab": {
          "base_uri": "https://localhost:8080/",
          "height": 178
        },
        "id": "QRds2xupI1tv",
        "outputId": "540dbabb-dc37-408e-ad1c-1bc65b8a3555"
      },
      "execution_count": 28,
      "outputs": [
        {
          "output_type": "execute_result",
          "data": {
            "text/plain": [
              "'Santokh Singh Chaudhary Congress party ’ Lok Sabha MP Jalandhar pass away participate Bharat Jodo Yatra Saturday morning He suffer cardiac arrest short deliver speech atSarav Dharam Manch Phillaur per initial report Santokh Singh participate Yatra pass Phillaur area tragedy occur It learnt deceased MP come Rahul Kusht Ashram collapse He rush Virk Hospital nearby Phagwara doctor declare dead The Phillaur Assembly constituency currently represent Punjab Legislative Assembly Santokh Singh Chaudhary ’ son Vikramjit Singh Chaudhary Santokh Singh meanwhile win Lok Sabha election twice — first 2014 later 2019 The Yatra stall follow incident Rahul visit MP ’ family hospital along MLA Rana Gurjeet Singh Vijay Inder Singla Leaders offer condolencesPunjab Chief Minister Bhagwant Mann take Twitter issue condolence “ I deeply sadden untimely death Congress Member Parliament Jalandhar Santokh Singh Chowdhury May God rest soul peace ” write Punjabi Lok Sabha Speaker Om Birla say Santokh Singh always discipline Parliament vocal issue public interest “ Condolences demise Lok Sabha MP Jalandhar Shri Santokh Singh ji In long public life always vocal issue public interest Discipline House specialty personality May God give peace departed soul My condolence family member ” tweet Hindi Varisu box office collection day 3 Thalapathy Vijay starrer compete head head Thunivu'"
            ],
            "application/vnd.google.colaboratory.intrinsic+json": {
              "type": "string"
            }
          },
          "metadata": {},
          "execution_count": 28
        }
      ]
    },
    {
      "cell_type": "code",
      "source": [
        "from sklearn.feature_extraction.text import TfidfVectorizer\n",
        "import pickle\n",
        "vectorizer = pickle.load(open('/content/tfidf.pickle','rb'))\n",
        "X_test = vectorizer.transform([article])"
      ],
      "metadata": {
        "id": "wgybDlwzJXdv"
      },
      "execution_count": 29,
      "outputs": []
    },
    {
      "cell_type": "code",
      "source": [
        "model=pickle.load(open('/content/fake_news_fulltrained_logistic_2','rb'))"
      ],
      "metadata": {
        "id": "UOJXMg1QKLFw"
      },
      "execution_count": 30,
      "outputs": []
    },
    {
      "cell_type": "code",
      "source": [
        "prediction = model.predict(X_test)\n",
        "print(prediction)\n",
        "\n",
        "if (prediction[0]==0):\n",
        "  print('The news is Real')\n",
        "else:\n",
        "  print('The news is Fake')"
      ],
      "metadata": {
        "colab": {
          "base_uri": "https://localhost:8080/"
        },
        "id": "W3BPtSCQKHmF",
        "outputId": "a03271cc-78df-4870-f392-2d4644f0fa61"
      },
      "execution_count": 31,
      "outputs": [
        {
          "output_type": "stream",
          "name": "stdout",
          "text": [
            "[0]\n",
            "The news is Real\n"
          ]
        }
      ]
    },
    {
      "cell_type": "markdown",
      "source": [
        "##Sentiment Analysis"
      ],
      "metadata": {
        "id": "Ubk-ZWnLFTyK"
      }
    },
    {
      "cell_type": "code",
      "source": [
        "import nltk\n",
        "nltk.download('punkt')\n",
        "\n",
        "import torch\n",
        "!pip install flair\n",
        "import flair"
      ],
      "metadata": {
        "colab": {
          "base_uri": "https://localhost:8080/"
        },
        "id": "0y7GBT1mmLVn",
        "outputId": "468d205a-10cd-4be3-f595-725c8dfbd4d6"
      },
      "execution_count": 32,
      "outputs": [
        {
          "output_type": "stream",
          "name": "stderr",
          "text": [
            "[nltk_data] Downloading package punkt to /root/nltk_data...\n",
            "[nltk_data]   Package punkt is already up-to-date!\n"
          ]
        },
        {
          "output_type": "stream",
          "name": "stdout",
          "text": [
            "Looking in indexes: https://pypi.org/simple, https://us-python.pkg.dev/colab-wheels/public/simple/\n",
            "Collecting flair\n",
            "  Downloading flair-0.11.3-py3-none-any.whl (401 kB)\n",
            "\u001b[2K     \u001b[90m━━━━━━━━━━━━━━━━━━━━━━━━━━━━━━━━━━━━━━\u001b[0m \u001b[32m401.9/401.9 KB\u001b[0m \u001b[31m10.4 MB/s\u001b[0m eta \u001b[36m0:00:00\u001b[0m\n",
            "\u001b[?25hRequirement already satisfied: gdown==4.4.0 in /usr/local/lib/python3.8/dist-packages (from flair) (4.4.0)\n",
            "Requirement already satisfied: scikit-learn>=0.21.3 in /usr/local/lib/python3.8/dist-packages (from flair) (1.0.2)\n",
            "Collecting konoha<5.0.0,>=4.0.0\n",
            "  Downloading konoha-4.6.5-py3-none-any.whl (20 kB)\n",
            "Collecting langdetect\n",
            "  Downloading langdetect-1.0.9.tar.gz (981 kB)\n",
            "\u001b[2K     \u001b[90m━━━━━━━━━━━━━━━━━━━━━━━━━━━━━━━━━━━━━━\u001b[0m \u001b[32m981.5/981.5 KB\u001b[0m \u001b[31m44.3 MB/s\u001b[0m eta \u001b[36m0:00:00\u001b[0m\n",
            "\u001b[?25h  Preparing metadata (setup.py) ... \u001b[?25l\u001b[?25hdone\n",
            "Collecting segtok>=1.5.7\n",
            "  Downloading segtok-1.5.11-py3-none-any.whl (24 kB)\n",
            "Collecting mpld3==0.3\n",
            "  Downloading mpld3-0.3.tar.gz (788 kB)\n",
            "\u001b[2K     \u001b[90m━━━━━━━━━━━━━━━━━━━━━━━━━━━━━━━━━━━━━━\u001b[0m \u001b[32m788.5/788.5 KB\u001b[0m \u001b[31m48.9 MB/s\u001b[0m eta \u001b[36m0:00:00\u001b[0m\n",
            "\u001b[?25h  Preparing metadata (setup.py) ... \u001b[?25l\u001b[?25hdone\n",
            "Collecting deprecated>=1.2.4\n",
            "  Downloading Deprecated-1.2.13-py2.py3-none-any.whl (9.6 kB)\n",
            "Requirement already satisfied: python-dateutil>=2.6.1 in /usr/local/lib/python3.8/dist-packages (from flair) (2.8.2)\n",
            "Requirement already satisfied: more-itertools in /usr/local/lib/python3.8/dist-packages (from flair) (9.0.0)\n",
            "Requirement already satisfied: transformers>=4.0.0 in /usr/local/lib/python3.8/dist-packages (from flair) (4.25.1)\n",
            "Requirement already satisfied: tabulate in /usr/local/lib/python3.8/dist-packages (from flair) (0.8.10)\n",
            "Requirement already satisfied: gensim>=3.4.0 in /usr/local/lib/python3.8/dist-packages (from flair) (3.6.0)\n",
            "Requirement already satisfied: huggingface-hub in /usr/local/lib/python3.8/dist-packages (from flair) (0.11.1)\n",
            "Requirement already satisfied: tqdm>=4.26.0 in /usr/local/lib/python3.8/dist-packages (from flair) (4.64.1)\n",
            "Collecting janome\n",
            "  Downloading Janome-0.4.2-py2.py3-none-any.whl (19.7 MB)\n",
            "\u001b[2K     \u001b[90m━━━━━━━━━━━━━━━━━━━━━━━━━━━━━━━━━━━━━━━━\u001b[0m \u001b[32m19.7/19.7 MB\u001b[0m \u001b[31m55.1 MB/s\u001b[0m eta \u001b[36m0:00:00\u001b[0m\n",
            "\u001b[?25hRequirement already satisfied: matplotlib>=2.2.3 in /usr/local/lib/python3.8/dist-packages (from flair) (3.2.2)\n",
            "Collecting bpemb>=0.3.2\n",
            "  Downloading bpemb-0.3.4-py3-none-any.whl (19 kB)\n",
            "Requirement already satisfied: regex in /usr/local/lib/python3.8/dist-packages (from flair) (2022.6.2)\n",
            "Collecting pptree\n",
            "  Downloading pptree-3.1.tar.gz (3.0 kB)\n",
            "  Preparing metadata (setup.py) ... \u001b[?25l\u001b[?25hdone\n",
            "Collecting sqlitedict>=1.6.0\n",
            "  Downloading sqlitedict-2.1.0.tar.gz (21 kB)\n",
            "  Preparing metadata (setup.py) ... \u001b[?25l\u001b[?25hdone\n",
            "Requirement already satisfied: lxml in /usr/local/lib/python3.8/dist-packages (from flair) (4.9.2)\n",
            "Requirement already satisfied: torch!=1.8,>=1.5.0 in /usr/local/lib/python3.8/dist-packages (from flair) (1.13.0+cu116)\n",
            "Collecting sentencepiece==0.1.95\n",
            "  Downloading sentencepiece-0.1.95-cp38-cp38-manylinux2014_x86_64.whl (1.2 MB)\n",
            "\u001b[2K     \u001b[90m━━━━━━━━━━━━━━━━━━━━━━━━━━━━━━━━━━━━━━━━\u001b[0m \u001b[32m1.2/1.2 MB\u001b[0m \u001b[31m51.5 MB/s\u001b[0m eta \u001b[36m0:00:00\u001b[0m\n",
            "\u001b[?25hCollecting wikipedia-api\n",
            "  Downloading Wikipedia_API-0.5.8-py3-none-any.whl (13 kB)\n",
            "Collecting ftfy\n",
            "  Downloading ftfy-6.1.1-py3-none-any.whl (53 kB)\n",
            "\u001b[2K     \u001b[90m━━━━━━━━━━━━━━━━━━━━━━━━━━━━━━━━━━━━━━━━\u001b[0m \u001b[32m53.1/53.1 KB\u001b[0m \u001b[31m6.5 MB/s\u001b[0m eta \u001b[36m0:00:00\u001b[0m\n",
            "\u001b[?25hCollecting conllu>=4.0\n",
            "  Downloading conllu-4.5.2-py2.py3-none-any.whl (16 kB)\n",
            "Collecting hyperopt>=0.2.7\n",
            "  Downloading hyperopt-0.2.7-py2.py3-none-any.whl (1.6 MB)\n",
            "\u001b[2K     \u001b[90m━━━━━━━━━━━━━━━━━━━━━━━━━━━━━━━━━━━━━━━━\u001b[0m \u001b[32m1.6/1.6 MB\u001b[0m \u001b[31m69.4 MB/s\u001b[0m eta \u001b[36m0:00:00\u001b[0m\n",
            "\u001b[?25hRequirement already satisfied: beautifulsoup4 in /usr/local/lib/python3.8/dist-packages (from gdown==4.4.0->flair) (4.6.3)\n",
            "Requirement already satisfied: six in /usr/local/lib/python3.8/dist-packages (from gdown==4.4.0->flair) (1.16.0)\n",
            "Requirement already satisfied: filelock in /usr/local/lib/python3.8/dist-packages (from gdown==4.4.0->flair) (3.9.0)\n",
            "Requirement already satisfied: requests[socks] in /usr/local/lib/python3.8/dist-packages (from gdown==4.4.0->flair) (2.28.2)\n",
            "Requirement already satisfied: numpy in /usr/local/lib/python3.8/dist-packages (from bpemb>=0.3.2->flair) (1.21.6)\n",
            "Requirement already satisfied: wrapt<2,>=1.10 in /usr/local/lib/python3.8/dist-packages (from deprecated>=1.2.4->flair) (1.14.1)\n",
            "Requirement already satisfied: scipy>=0.18.1 in /usr/local/lib/python3.8/dist-packages (from gensim>=3.4.0->flair) (1.7.3)\n",
            "Requirement already satisfied: smart-open>=1.2.1 in /usr/local/lib/python3.8/dist-packages (from gensim>=3.4.0->flair) (6.3.0)\n",
            "Requirement already satisfied: future in /usr/local/lib/python3.8/dist-packages (from hyperopt>=0.2.7->flair) (0.16.0)\n",
            "Requirement already satisfied: cloudpickle in /usr/local/lib/python3.8/dist-packages (from hyperopt>=0.2.7->flair) (2.2.0)\n",
            "Collecting py4j\n",
            "  Downloading py4j-0.10.9.7-py2.py3-none-any.whl (200 kB)\n",
            "\u001b[2K     \u001b[90m━━━━━━━━━━━━━━━━━━━━━━━━━━━━━━━━━━━━━━\u001b[0m \u001b[32m200.5/200.5 KB\u001b[0m \u001b[31m16.9 MB/s\u001b[0m eta \u001b[36m0:00:00\u001b[0m\n",
            "\u001b[?25hRequirement already satisfied: networkx>=2.2 in /usr/local/lib/python3.8/dist-packages (from hyperopt>=0.2.7->flair) (2.8.8)\n",
            "Collecting importlib-metadata<4.0.0,>=3.7.0\n",
            "  Downloading importlib_metadata-3.10.1-py3-none-any.whl (14 kB)\n",
            "Collecting overrides<4.0.0,>=3.0.0\n",
            "  Downloading overrides-3.1.0.tar.gz (11 kB)\n",
            "  Preparing metadata (setup.py) ... \u001b[?25l\u001b[?25hdone\n",
            "Requirement already satisfied: kiwisolver>=1.0.1 in /usr/local/lib/python3.8/dist-packages (from matplotlib>=2.2.3->flair) (1.4.4)\n",
            "Requirement already satisfied: cycler>=0.10 in /usr/local/lib/python3.8/dist-packages (from matplotlib>=2.2.3->flair) (0.11.0)\n",
            "Requirement already satisfied: pyparsing!=2.0.4,!=2.1.2,!=2.1.6,>=2.0.1 in /usr/local/lib/python3.8/dist-packages (from matplotlib>=2.2.3->flair) (3.0.9)\n",
            "Requirement already satisfied: threadpoolctl>=2.0.0 in /usr/local/lib/python3.8/dist-packages (from scikit-learn>=0.21.3->flair) (3.1.0)\n",
            "Requirement already satisfied: joblib>=0.11 in /usr/local/lib/python3.8/dist-packages (from scikit-learn>=0.21.3->flair) (1.2.0)\n",
            "Requirement already satisfied: typing-extensions in /usr/local/lib/python3.8/dist-packages (from torch!=1.8,>=1.5.0->flair) (4.4.0)\n",
            "Requirement already satisfied: tokenizers!=0.11.3,<0.14,>=0.11.1 in /usr/local/lib/python3.8/dist-packages (from transformers>=4.0.0->flair) (0.13.2)\n",
            "Requirement already satisfied: packaging>=20.0 in /usr/local/lib/python3.8/dist-packages (from transformers>=4.0.0->flair) (21.3)\n",
            "Requirement already satisfied: pyyaml>=5.1 in /usr/local/lib/python3.8/dist-packages (from transformers>=4.0.0->flair) (6.0)\n",
            "Requirement already satisfied: wcwidth>=0.2.5 in /usr/local/lib/python3.8/dist-packages (from ftfy->flair) (0.2.5)\n",
            "Requirement already satisfied: zipp>=0.5 in /usr/local/lib/python3.8/dist-packages (from importlib-metadata<4.0.0,>=3.7.0->konoha<5.0.0,>=4.0.0->flair) (3.11.0)\n",
            "Requirement already satisfied: idna<4,>=2.5 in /usr/local/lib/python3.8/dist-packages (from requests[socks]->gdown==4.4.0->flair) (2.10)\n",
            "Requirement already satisfied: certifi>=2017.4.17 in /usr/local/lib/python3.8/dist-packages (from requests[socks]->gdown==4.4.0->flair) (2022.12.7)\n",
            "Requirement already satisfied: charset-normalizer<4,>=2 in /usr/local/lib/python3.8/dist-packages (from requests[socks]->gdown==4.4.0->flair) (2.1.1)\n",
            "Requirement already satisfied: urllib3<1.27,>=1.21.1 in /usr/local/lib/python3.8/dist-packages (from requests[socks]->gdown==4.4.0->flair) (1.24.3)\n",
            "Requirement already satisfied: PySocks!=1.5.7,>=1.5.6 in /usr/local/lib/python3.8/dist-packages (from requests[socks]->gdown==4.4.0->flair) (1.7.1)\n",
            "Building wheels for collected packages: mpld3, sqlitedict, langdetect, pptree, overrides\n",
            "  Building wheel for mpld3 (setup.py) ... \u001b[?25l\u001b[?25hdone\n",
            "  Created wheel for mpld3: filename=mpld3-0.3-py3-none-any.whl size=116702 sha256=824fd35c383f3d7a376cd005d9190c2e4bfc4f69e9b6cd024b2bfb6e1ac906cc\n",
            "  Stored in directory: /root/.cache/pip/wheels/3d/9f/9d/d806a20bd97bc7076d724fa3e69fa5be61836ba16b2ffa6126\n",
            "  Building wheel for sqlitedict (setup.py) ... \u001b[?25l\u001b[?25hdone\n",
            "  Created wheel for sqlitedict: filename=sqlitedict-2.1.0-py3-none-any.whl size=16869 sha256=645409d794e514d9d6d529aa01b81457b552017ca63ad41b293ce3259d059799\n",
            "  Stored in directory: /root/.cache/pip/wheels/04/c6/16/46e174009277f9bccdaa7215a243939d2f70180804b249bf3a\n",
            "  Building wheel for langdetect (setup.py) ... \u001b[?25l\u001b[?25hdone\n",
            "  Created wheel for langdetect: filename=langdetect-1.0.9-py3-none-any.whl size=993242 sha256=7a7a782aad7e7addb087f20b0801fff566a923f5694832cd7ce09d5ee30ac5fb\n",
            "  Stored in directory: /root/.cache/pip/wheels/13/c7/b0/79f66658626032e78fc1a83103690ef6797d551cb22e56e734\n",
            "  Building wheel for pptree (setup.py) ... \u001b[?25l\u001b[?25hdone\n",
            "  Created wheel for pptree: filename=pptree-3.1-py3-none-any.whl size=4629 sha256=607b5af3e3acd7a74244f36b05eb3c2a9b8c44c109e042ccc256d4591f054d8f\n",
            "  Stored in directory: /root/.cache/pip/wheels/e1/8b/30/5b20240d3d13a9dfafb6a6dd49d1b541c86d39812cb3690edf\n",
            "  Building wheel for overrides (setup.py) ... \u001b[?25l\u001b[?25hdone\n",
            "  Created wheel for overrides: filename=overrides-3.1.0-py3-none-any.whl size=10187 sha256=6791ef4854f0f7e2f2a510e700f4e9bb90f197af87fae9dea552d2c8151c67aa\n",
            "  Stored in directory: /root/.cache/pip/wheels/6a/4f/72/28857f75625b263e2e3f5ab2fc4416c0a85960ac6485007eaa\n",
            "Successfully built mpld3 sqlitedict langdetect pptree overrides\n",
            "Installing collected packages: sqlitedict, sentencepiece, py4j, pptree, overrides, mpld3, janome, segtok, langdetect, importlib-metadata, ftfy, deprecated, conllu, wikipedia-api, konoha, hyperopt, bpemb, flair\n",
            "  Attempting uninstall: importlib-metadata\n",
            "    Found existing installation: importlib-metadata 6.0.0\n",
            "    Uninstalling importlib-metadata-6.0.0:\n",
            "      Successfully uninstalled importlib-metadata-6.0.0\n",
            "  Attempting uninstall: hyperopt\n",
            "    Found existing installation: hyperopt 0.1.2\n",
            "    Uninstalling hyperopt-0.1.2:\n",
            "      Successfully uninstalled hyperopt-0.1.2\n",
            "\u001b[31mERROR: pip's dependency resolver does not currently take into account all the packages that are installed. This behaviour is the source of the following dependency conflicts.\n",
            "markdown 3.4.1 requires importlib-metadata>=4.4; python_version < \"3.10\", but you have importlib-metadata 3.10.1 which is incompatible.\n",
            "gym 0.25.2 requires importlib-metadata>=4.8.0; python_version < \"3.10\", but you have importlib-metadata 3.10.1 which is incompatible.\u001b[0m\u001b[31m\n",
            "\u001b[0mSuccessfully installed bpemb-0.3.4 conllu-4.5.2 deprecated-1.2.13 flair-0.11.3 ftfy-6.1.1 hyperopt-0.2.7 importlib-metadata-3.10.1 janome-0.4.2 konoha-4.6.5 langdetect-1.0.9 mpld3-0.3 overrides-3.1.0 pptree-3.1 py4j-0.10.9.7 segtok-1.5.11 sentencepiece-0.1.95 sqlitedict-2.1.0 wikipedia-api-0.5.8\n"
          ]
        }
      ]
    },
    {
      "cell_type": "code",
      "source": [
        "from flair.models import TextClassifier\n",
        "from flair.data import Sentence\n",
        "from segtok.segmenter import split_single\n",
        "classifier = TextClassifier.load('en-sentiment')"
      ],
      "metadata": {
        "colab": {
          "base_uri": "https://localhost:8080/",
          "height": 254,
          "referenced_widgets": [
            "4a0436962701461ea54b9cf8dca86b61",
            "db9df682a4a448ec95cdba76daea3291",
            "7530e047a5a045e4aec27e43ccfbf4a4",
            "015b63e1f3f3424fa296a8608de32d40",
            "b9f8bca11dba4f7aa71939b253be0216",
            "932d568f32344cf79f3694771485ba41",
            "d028c750d298466caa61118d48658e97",
            "b0d59936d56443fb9b0b14713dd865cd",
            "f6216dd7043c45b4ab67073e53c17e47",
            "05af48b2771f4369b61ca861082c96f2",
            "8419d20d69cd4d759c43bcf4cef7d050",
            "d479cc67fb014ce9b6d86aaa0d65198d",
            "70702ed09d8641e4b0c7f84012b18618",
            "902ca6803f32492ba79f5c32af8472d9",
            "30e93420ed0a498bbc5d88b132545d30",
            "f21099968ef84e26906679288ac9ebe4",
            "08e5c12f4ce9432082a3479c3b001acc",
            "7b8d7283d64642fe991a4264e18193e4",
            "d8e1d9d2d39a43f5a788adb38e6a7c09",
            "9c6e3ebbfef14e9eb7d94a61e0a060dc",
            "197c878530204bad94a9fdd281bdafd1",
            "e1b00a407df041d4b719f5c762018a24",
            "eead05921c6a4291b4fcff247b5fa09e",
            "531ca1971a374190b4b07fd8ae3ba21f",
            "04339af9eebe49ea98b33b6ce1a5d39e",
            "4c12d6f7d4fb4e4484293d67ea9afd2d",
            "aa7756f02ea946fb9d7f8274ab86aeca",
            "72231752f8b44a61b1850a9c09482325",
            "f5b1c39a49ac4d04b53821576cfee3d9",
            "4950f35242d44a8b9b48b87f160100a7",
            "3703ac9198e0491eb51ad5183da62d7f",
            "eb36bf354ea74aa1b09fbdf657640830",
            "664ee23bced1428999b4c75d64c708a2",
            "c74ce031b9a044ef9048ca38c5025b6d",
            "9f2b88a9bdfe4400a83155c205b5d5b5",
            "ccad3d7a85dc4636a8bf027e2a96f8c5",
            "1c58c9274925453d96ccc08e282d04ca",
            "0e5f64a7518849b383e4246358817dac",
            "ac264e3491f74c9a833d7cdb9c193bad",
            "0d03453c9f2b4395947b07a337762ebe",
            "d424ac993484460ca23accf01bf6ecc5",
            "e3838f8a9cd146e786161490faf508df",
            "b1442eedd4a844e8889a698fcd23724d",
            "fa33ddeb08c640b189bc62034e64d91f"
          ]
        },
        "id": "4lN2lOLjudIr",
        "outputId": "5a1a3304-78df-4fe6-f7fe-de50ac662122"
      },
      "execution_count": 33,
      "outputs": [
        {
          "output_type": "stream",
          "name": "stdout",
          "text": [
            "2023-01-14 14:14:05,044 https://nlp.informatik.hu-berlin.de/resources/models/sentiment-curated-distilbert/sentiment-en-mix-distillbert_4.pt not found in cache, downloading to /tmp/tmpcexv11g7\n"
          ]
        },
        {
          "output_type": "stream",
          "name": "stderr",
          "text": [
            "100%|██████████| 265512723/265512723 [00:19<00:00, 13493110.57B/s]"
          ]
        },
        {
          "output_type": "stream",
          "name": "stdout",
          "text": [
            "2023-01-14 14:14:25,243 copying /tmp/tmpcexv11g7 to cache at /root/.flair/models/sentiment-en-mix-distillbert_4.pt\n"
          ]
        },
        {
          "output_type": "stream",
          "name": "stderr",
          "text": [
            "\n"
          ]
        },
        {
          "output_type": "stream",
          "name": "stdout",
          "text": [
            "2023-01-14 14:14:26,586 removing temp file /tmp/tmpcexv11g7\n",
            "2023-01-14 14:14:26,754 loading file /root/.flair/models/sentiment-en-mix-distillbert_4.pt\n"
          ]
        },
        {
          "output_type": "display_data",
          "data": {
            "text/plain": [
              "Downloading:   0%|          | 0.00/28.0 [00:00<?, ?B/s]"
            ],
            "application/vnd.jupyter.widget-view+json": {
              "version_major": 2,
              "version_minor": 0,
              "model_id": "4a0436962701461ea54b9cf8dca86b61"
            }
          },
          "metadata": {}
        },
        {
          "output_type": "display_data",
          "data": {
            "text/plain": [
              "Downloading:   0%|          | 0.00/483 [00:00<?, ?B/s]"
            ],
            "application/vnd.jupyter.widget-view+json": {
              "version_major": 2,
              "version_minor": 0,
              "model_id": "d479cc67fb014ce9b6d86aaa0d65198d"
            }
          },
          "metadata": {}
        },
        {
          "output_type": "display_data",
          "data": {
            "text/plain": [
              "Downloading:   0%|          | 0.00/232k [00:00<?, ?B/s]"
            ],
            "application/vnd.jupyter.widget-view+json": {
              "version_major": 2,
              "version_minor": 0,
              "model_id": "eead05921c6a4291b4fcff247b5fa09e"
            }
          },
          "metadata": {}
        },
        {
          "output_type": "display_data",
          "data": {
            "text/plain": [
              "Downloading:   0%|          | 0.00/466k [00:00<?, ?B/s]"
            ],
            "application/vnd.jupyter.widget-view+json": {
              "version_major": 2,
              "version_minor": 0,
              "model_id": "c74ce031b9a044ef9048ca38c5025b6d"
            }
          },
          "metadata": {}
        }
      ]
    },
    {
      "cell_type": "code",
      "source": [
        "def score_flair(text):\n",
        "  str(text)\n",
        "  sentence = Sentence(text)\n",
        "  classifier.predict(sentence)\n",
        "  score = sentence.labels[0].score\n",
        "  value = sentence.labels[0].value\n",
        "  return score, value"
      ],
      "metadata": {
        "id": "-sEu_MONujds"
      },
      "execution_count": 34,
      "outputs": []
    },
    {
      "cell_type": "code",
      "source": [
        "print(\"Sentiment Analysis of the given article is \", score_flair(article)[1])\n"
      ],
      "metadata": {
        "colab": {
          "base_uri": "https://localhost:8080/"
        },
        "id": "riY5nRKZu3U_",
        "outputId": "8fb1a8a6-f4a6-4f77-fcfd-0868ed63a164"
      },
      "execution_count": 35,
      "outputs": [
        {
          "output_type": "stream",
          "name": "stdout",
          "text": [
            "Sentiment Analysis of the given article is  NEGATIVE\n"
          ]
        }
      ]
    }
  ]
}